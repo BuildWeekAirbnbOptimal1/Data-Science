{
  "nbformat": 4,
  "nbformat_minor": 0,
  "metadata": {
    "colab": {
      "name": "Untitled20.ipynb",
      "provenance": []
    },
    "kernelspec": {
      "name": "python3",
      "display_name": "Python 3"
    }
  },
  "cells": [
    {
      "cell_type": "code",
      "execution_count": null,
      "metadata": {
        "colab": {},
        "colab_type": "code",
        "id": "RelPHpHekmfv"
      },
      "outputs": [],
      "source": [
        "import pandas as pd\n",
        "import numpy as np\n",
        "import matplotlib.pyplot as plt\n",
        "\n",
        "from tensorflow.keras.models import Sequential\n",
        "from tensorflow.keras.layers import Dense"
      ]
    },
    {
      "cell_type": "markdown",
      "execution_count": null,
      "metadata": {
        "colab_type": "text",
        "id": "8kLt3bTouoqM"
      },
      "outputs": [],
      "source": [
        "# Clean and engineer data"
      ]
    },
    {
      "cell_type": "code",
      "execution_count": null,
      "metadata": {
        "colab": {
          "base_uri": "https://localhost:8080/",
          "height": 829
        },
        "colab_type": "code",
        "id": "kmIC6EkgkoyQ",
        "outputId": "0c36ce26-3634-4282-f1c2-683a5902f6cd"
      },
      "outputs": [],
      "source": [
        "df = pd.read_csv('Berlin.csv')\n",
        "\n",
        "print(df.shape)\n",
        "df.head()"
      ]
    },
    {
      "cell_type": "code",
      "execution_count": null,
      "metadata": {
        "colab": {
          "base_uri": "https://localhost:8080/",
          "height": 35
        },
        "colab_type": "code",
        "id": "gbj0_pBLktDX",
        "outputId": "d28de843-47f5-473c-a5a9-483f8432133d"
      },
      "outputs": [],
      "source": [
        "free_rentals = list(df[df['price'] == \"$0.00\"].index)\n",
        "\n",
        "df = df.drop(index=free_rentals)\n",
        "\n",
        "print(df.shape)"
      ]
    },
    {
      "cell_type": "code",
      "execution_count": null,
      "metadata": {
        "colab": {
          "base_uri": "https://localhost:8080/",
          "height": 176
        },
        "colab_type": "code",
        "id": "XLRn2lFfleoj",
        "outputId": "dc6dbd45-0306-41f3-a245-c1e06f7010c4"
      },
      "outputs": [],
      "source": [
        "df['price'] = df['price'].apply(lambda p: float(p.strip('$').replace(\",\",'')))\n",
        "\n",
        "df['price'].describe()"
      ]
    },
    {
      "cell_type": "code",
      "execution_count": null,
      "metadata": {
        "colab": {
          "base_uri": "https://localhost:8080/",
          "height": 776
        },
        "colab_type": "code",
        "id": "Zet8P22onCr1",
        "outputId": "a0db3190-c333-4134-8866-106567a29899"
      },
      "outputs": [],
      "source": [
        "def am_to_list(amenities):\n",
        "    li = amenities.split(\",\")\n",
        "\n",
        "    for i in range(len(li)):\n",
        "        li[i] = li[i].replace('\"', '')\n",
        "        li[i] = li[i].replace(\"'\", '')\n",
        "        li[i] = li[i].strip(\"{\")\n",
        "        li[i] = li[i].strip(\"}\")\n",
        "\n",
        "    return li\n",
        "\n",
        "df['am_list'] = df['amenities'].apply(am_to_list)\n",
        "\n",
        "df.head()"
      ]
    },
    {
      "cell_type": "code",
      "execution_count": null,
      "metadata": {
        "colab": {
          "base_uri": "https://localhost:8080/",
          "height": 828
        },
        "colab_type": "code",
        "id": "anovn_ZFo5tG",
        "outputId": "00f7d325-21c5-46cb-854d-781485fca9af"
      },
      "outputs": [],
      "source": [
        "potential_features = ['neighbourhood',\n",
        "                      'neighbourhood_cleansed', 'security_deposit',\n",
        "                      'room_type', 'accommodates',\n",
        "                      'bathrooms',\n",
        "                      'bedrooms']\n",
        "\n",
        "for feature in potential_features:\n",
        "    df[feature] = df['am_list'].apply(lambda li: feature in li)\n",
        "    \n",
        "df.head()"
      ]
    },
    {
      "cell_type": "code",
      "execution_count": null,
      "metadata": {
        "colab": {},
        "colab_type": "code",
        "id": "rJi6_xSLoIV9"
      },
      "outputs": [],
      "source": [
        "df['entire'] = df['room_type'] == 'Entire home/apt'\n",
        "df['private'] = df['room_type'] == 'Private room'\n",
        "df['shared'] = df['room_type'] == 'Shared room'\n",
        "df['hotel'] = df['room_type'] == 'Hotel room'"
      ]
    },
    {
      "cell_type": "code",
      "execution_count": null,
      "metadata": {
        "colab": {
          "base_uri": "https://localhost:8080/",
          "height": 828
        },
        "colab_type": "code",
        "id": "TwFvaBH0p3-J",
        "outputId": "a8342d77-fc55-4e9d-d2bb-6aadae74410e"
      },
      "outputs": [],
      "source": [
        "cutoff = 10\n",
        "top_hoods = df['neighbourhood'].value_counts(dropna=True).index[:cutoff]\n",
        "\n",
        "for hood in top_hoods:\n",
        "    df[hood] = df['neighbourhood'] == hood\n",
        "    \n",
        "df.head()"
      ]
    },
    {
      "cell_type": "code",
      "execution_count": null,
      "metadata": {
        "colab": {},
        "colab_type": "code",
        "id": "03KM_HMUp_sI"
      },
      "outputs": [],
      "source": [
        "features = ['bedrooms', 'bathrooms', 'neighbourhood_cleansed',\n",
        "            'latitude', 'longitude',\n",
        "            'room_type', 'cleaning_fee', 'guests_included']\n",
        "\n",
        "features.extend(top_hoods)\n",
        "\n",
        "dfX = df[features]\n",
        "dfy = df['price']"
      ]
    },
    {
      "cell_type": "code",
      "execution_count": null,
      "metadata": {
        "colab": {
          "base_uri": "https://localhost:8080/",
          "height": 158
        },
        "colab_type": "code",
        "id": "woRf4pMHrjIs",
        "outputId": "0b19dda6-6157-4048-a2f8-bd722300ff63"
      },
      "outputs": [],
      "source": [
        "dfX.columns"
      ]
    },
    {
      "cell_type": "code",
      "execution_count": null,
      "metadata": {
        "colab": {
          "base_uri": "https://localhost:8080/",
          "height": 1000
        },
        "colab_type": "code",
        "id": "GZYQyYIOrF42",
        "outputId": "8d10d940-d0ae-43b1-c964-6c0b715663fb"
      },
      "outputs": [],
      "source": [
        "for feature in dfX.columns:\n",
        "    dfX[feature] = dfX[feature].fillna(value=dfX[feature].median())\n",
        "    \n",
        "dfX.isnull().sum()"
      ]
    },
    {
      "cell_type": "code",
      "execution_count": null,
      "metadata": {
        "colab": {
          "base_uri": "https://localhost:8080/",
          "height": 278
        },
        "colab_type": "code",
        "id": "GZFty-hQsCc0",
        "outputId": "195f9a54-815e-419d-b4ac-1aa4de470d76"
      },
      "outputs": [],
      "source": [
        "dfX.head()"
      ]
    },
    {
      "cell_type": "code",
      "execution_count": null,
      "metadata": {
        "colab": {},
        "colab_type": "code",
        "id": "yZ3pEnzsrCGY"
      },
      "outputs": [],
      "source": [
        "X = np.array(dfX)\n",
        "y = np.array(dfy)"
      ]
    },
    {
      "cell_type": "code",
      "execution_count": null,
      "metadata": {
        "colab": {
          "base_uri": "https://localhost:8080/",
          "height": 35
        },
        "colab_type": "code",
        "id": "5R25LaJmsIgV",
        "outputId": "1522d61f-80c9-402d-c075-551cabd3b23c"
      },
      "outputs": [],
      "source": [
        "X.shape, y.shape"
      ]
    },
    {
      "cell_type": "markdown",
      "execution_count": null,
      "metadata": {
        "colab_type": "text",
        "id": "PC0FPdDlvEbC"
      },
      "outputs": [],
      "source": [
        "# Iterating Models"
      ]
    },
    {
      "cell_type": "markdown",
      "execution_count": null,
      "metadata": {
        "colab_type": "text",
        "id": "O2eW6Y340NYj"
      },
      "outputs": [],
      "source": [
        "## First model architecture"
      ]
    },
    {
      "cell_type": "code",
      "execution_count": null,
      "metadata": {
        "colab": {
          "base_uri": "https://localhost:8080/",
          "height": 229
        },
        "colab_type": "code",
        "id": "nTzpKvMQsz8U",
        "outputId": "8d189c76-3412-444f-8e1e-7285fea2a28e"
      },
      "outputs": [],
      "source": [
        "model = Sequential()\n",
        "\n",
        "model.add(Dense(10, input_dim=X.shape[1], activation='relu'))\n",
        "model.add(Dense(1))\n",
        "\n",
        "model.compile(loss='MSE', optimizer='adam', metrics=['mean_squared_error'])\n",
        "\n",
        "model.summary()"
      ]
    },
    {
      "cell_type": "code",
      "execution_count": null,
      "metadata": {
        "colab": {
          "base_uri": "https://localhost:8080/",
          "height": 1000
        },
        "colab_type": "code",
        "id": "VWA2h6qnuJzd",
        "outputId": "4846e487-d45b-4602-c991-0e7b4e07569b"
      },
      "outputs": [],
      "source": [
        "model.fit(X, y, epochs=100, verbose=1, validation_split=.2)"
      ]
    },
    {
      "cell_type": "code",
      "execution_count": null,
      "metadata": {
        "colab": {
          "base_uri": "https://localhost:8080/",
          "height": 141
        },
        "colab_type": "code",
        "id": "A-rrvOPwuOA3",
        "outputId": "c8c01963-d52e-4d7c-e480-733af6754275"
      },
      "outputs": [],
      "source": [
        "np.array([list(X[0])]), model.predict(np.array([list(X[0])]))"
      ]
    },
    {
      "cell_type": "code",
      "execution_count": null,
      "metadata": {
        "colab": {},
        "colab_type": "code",
        "id": "W72im19rvNii"
      },
      "outputs": [],
      "source": [
        "def check_predictions(model, y=y, count=10):\n",
        "  for i in range(count):\n",
        "    print(f'Predicted: {model.predict(np.array([list(X[i])]))}, actual: {y[i]}')"
      ]
    },
    {
      "cell_type": "code",
      "execution_count": null,
      "metadata": {
        "colab": {
          "base_uri": "https://localhost:8080/",
          "height": 194
        },
        "colab_type": "code",
        "id": "lAJwI6lavWne",
        "outputId": "d4d6b44b-0353-47d9-e10f-dfb82f30e91b"
      },
      "outputs": [],
      "source": [
        "check_predictions(model)"
      ]
    },
    {
      "cell_type": "code",
      "execution_count": null,
      "metadata": {
        "colab": {
          "base_uri": "https://localhost:8080/",
          "height": 1000
        },
        "colab_type": "code",
        "id": "nmvTEtjSzjD-",
        "outputId": "a2b940c4-ee53-477c-9f50-f1e1a2ac2f73"
      },
      "outputs": [],
      "source": [
        "# first fix: more epochs, small batches\n",
        "\n",
        "model.fit(X, y, epochs=1000, batch_size=20, verbose=1, validation_split=.2)"
      ]
    },
    {
      "cell_type": "code",
      "execution_count": null,
      "metadata": {
        "colab": {
          "base_uri": "https://localhost:8080/",
          "height": 194
        },
        "colab_type": "code",
        "id": "IMOrd-3b1V2Y",
        "outputId": "61500e9e-abf0-404a-c3d2-c39813fa8dec"
      },
      "outputs": [],
      "source": [
        "check_predictions(model)"
      ]
    },
    {
      "cell_type": "markdown",
      "execution_count": null,
      "metadata": {
        "colab_type": "text",
        "id": "9A51zBAoBRnc"
      },
      "outputs": [],
      "source": [
        "## Second model architecture"
      ]
    },
    {
      "cell_type": "code",
      "execution_count": null,
      "metadata": {
        "colab": {
          "base_uri": "https://localhost:8080/",
          "height": 229
        },
        "colab_type": "code",
        "id": "PfpAL86zBUrC",
        "outputId": "1e07c05f-29c8-439f-9b51-3a7910fdde7d"
      },
      "outputs": [],
      "source": [
        "model = Sequential()\n",
        "\n",
        "model.add(Dense(5, input_dim=X.shape[1], activation='relu'))\n",
        "model.add(Dense(1))\n",
        "\n",
        "model.compile(loss='MSE', optimizer='adam', metrics=['mean_squared_error'])\n",
        "\n",
        "model.summary()"
      ]
    },
    {
      "cell_type": "code",
      "execution_count": null,
      "metadata": {
        "colab": {
          "base_uri": "https://localhost:8080/",
          "height": 1000
        },
        "colab_type": "code",
        "id": "oLATBIgiD1u_",
        "outputId": "7f8ee337-f32f-4ea1-ab23-3401e0fbe4d4"
      },
      "outputs": [],
      "source": [
        "model.fit(X, y, epochs=100, verbose=1, validation_split=.2)"
      ]
    },
    {
      "cell_type": "code",
      "execution_count": null,
      "metadata": {
        "colab": {
          "base_uri": "https://localhost:8080/",
          "height": 194
        },
        "colab_type": "code",
        "id": "biDfA-DMECKq",
        "outputId": "a07a7096-3dce-41bc-8953-de6700dcb4eb"
      },
      "outputs": [],
      "source": [
        "check_predictions(model)"
      ]
    },
    {
      "cell_type": "markdown",
      "execution_count": null,
      "metadata": {
        "colab_type": "text",
        "id": "vN7TKDuLNmlh"
      },
      "outputs": [],
      "source": [
        "## Third model architecture "
      ]
    },
    {
      "cell_type": "code",
      "execution_count": null,
      "metadata": {
        "colab": {
          "base_uri": "https://localhost:8080/",
          "height": 264
        },
        "colab_type": "code",
        "id": "V-vUDtuLEkfs",
        "outputId": "673af15e-b856-47f5-8abf-223237bc349c"
      },
      "outputs": [],
      "source": [
        "model = Sequential()\n",
        "\n",
        "model.add(Dense(15, input_dim=X.shape[1], activation='relu'))\n",
        "model.add(Dense(7, activation='relu'))\n",
        "model.add(Dense(1))\n",
        "\n",
        "model.compile(loss='MSE', optimizer='adam', metrics=['mean_squared_error'])\n",
        "\n",
        "model.summary()"
      ]
    },
    {
      "cell_type": "code",
      "execution_count": null,
      "metadata": {
        "colab": {
          "base_uri": "https://localhost:8080/",
          "height": 1000
        },
        "colab_type": "code",
        "id": "g3w3ksXYN2LR",
        "outputId": "0a764c1c-730d-440e-8f3a-ee4d915a1a24"
      },
      "outputs": [],
      "source": [
        "model.fit(X, y, epochs=100, verbose=1, validation_split=.2)"
      ]
    },
    {
      "cell_type": "code",
      "execution_count": null,
      "metadata": {
        "colab": {
          "base_uri": "https://localhost:8080/",
          "height": 194
        },
        "colab_type": "code",
        "id": "GuRHPKC4N4lR",
        "outputId": "70f55f87-72e2-4cd1-d651-fdf0554e0d6c"
      },
      "outputs": [],
      "source": [
        "check_predictions(model)"
      ]
    },
    {
      "cell_type": "markdown",
      "execution_count": null,
      "metadata": {
        "colab_type": "text",
        "id": "OR38clYuOamb"
      },
      "outputs": [],
      "source": [
        "# Rejigger data to try again"
      ]
    },
    {
      "cell_type": "code",
      "execution_count": null,
      "metadata": {
        "colab": {
          "base_uri": "https://localhost:8080/",
          "height": 278
        },
        "colab_type": "code",
        "id": "zVHIprWwOUtZ",
        "outputId": "5ef5b08c-c3f1-4297-f250-94b9733759f2"
      },
      "outputs": [],
      "source": [
        "dfX.head()"
      ]
    },
    {
      "cell_type": "code",
      "execution_count": null,
      "metadata": {
        "colab": {
          "base_uri": "https://localhost:8080/",
          "height": 635
        },
        "colab_type": "code",
        "id": "dyhnmQZcO9qV",
        "outputId": "0f3fd512-402f-417c-81bc-ba1ab8033a91"
      },
      "outputs": [],
      "source": [
        "df['property_type'].value_counts(dropna=False)"
      ]
    },
    {
      "cell_type": "code",
      "execution_count": null,
      "metadata": {
        "colab": {
          "base_uri": "https://localhost:8080/",
          "height": 828
        },
        "colab_type": "code",
        "id": "ciR-cuybPfbL",
        "outputId": "38c306fb-235d-41b8-bf5e-13ffee7785f6"
      },
      "outputs": [],
      "source": [
        "df['house'] = df['property_type'] == 'House'\n",
        "df['apartment'] = df['property_type'] == 'Apartment'\n",
        "df['condo'] = df['property_type'] == 'Condominium'\n",
        "\n",
        "df.head()"
      ]
    },
    {
      "cell_type": "code",
      "execution_count": null,
      "metadata": {
        "colab": {
          "base_uri": "https://localhost:8080/",
          "height": 1000
        },
        "colab_type": "code",
        "id": "7VQ_BvUZQgi8",
        "outputId": "549cc367-fd1d-4ade-f51b-d1e2d948839e"
      },
      "outputs": [],
      "source": [
        "features = ['bedrooms', 'bathrooms', 'neighbourhood_cleansed',\n",
        "            'latitude', 'longitude',\n",
        "            'room_type', 'cleaning_fee', 'guests_included']\n",
        "\n",
        "dfX = df[features]\n",
        "dfy = df['price']\n",
        "\n",
        "for feature in dfX.columns:\n",
        "    dfX[feature] = dfX[feature].fillna(value=dfX[feature].median())\n",
        "    \n",
        "dfX.isnull().sum()"
      ]
    },
    {
      "cell_type": "code",
      "execution_count": null,
      "metadata": {
        "colab": {
          "base_uri": "https://localhost:8080/",
          "height": 35
        },
        "colab_type": "code",
        "id": "fcfwTP14Q7mb",
        "outputId": "3e524a6c-68a2-41d3-d4ea-975f3c6ba96c"
      },
      "outputs": [],
      "source": [
        "X = np.array(dfX)\n",
        "y = np.array(dfy)\n",
        "\n",
        "X.shape, y.shape"
      ]
    },
    {
      "cell_type": "markdown",
      "execution_count": null,
      "metadata": {
        "colab_type": "text",
        "id": "2BrqHNm_S8x6"
      },
      "outputs": [],
      "source": [
        "# Iterating models again"
      ]
    },
    {
      "cell_type": "markdown",
      "execution_count": null,
      "metadata": {
        "colab_type": "text",
        "id": "HxAQUhrzS_DG"
      },
      "outputs": [],
      "source": [
        "## First model architecture redux"
      ]
    },
    {
      "cell_type": "code",
      "execution_count": null,
      "metadata": {
        "colab": {
          "base_uri": "https://localhost:8080/",
          "height": 229
        },
        "colab_type": "code",
        "id": "2gjUa9lhRIUB",
        "outputId": "75cf2468-d110-48d2-9521-915de57e3444"
      },
      "outputs": [],
      "source": [
        "model = Sequential()\n",
        "\n",
        "model.add(Dense(10, input_dim=X.shape[1], activation='relu'))\n",
        "model.add(Dense(1))\n",
        "\n",
        "model.compile(loss='MSE', optimizer='adam', metrics=['mean_squared_error'])\n",
        "\n",
        "model.summary()"
      ]
    },
    {
      "cell_type": "code",
      "execution_count": null,
      "metadata": {
        "colab": {
          "base_uri": "https://localhost:8080/",
          "height": 1000
        },
        "colab_type": "code",
        "id": "fZpjinvnTNKJ",
        "outputId": "f83cc4c0-e9d2-4942-f8c4-ddb45851830b"
      },
      "outputs": [],
      "source": [
        "model.fit(X, y, epochs=100, verbose=1, validation_split=.2)"
      ]
    },
    {
      "cell_type": "code",
      "execution_count": null,
      "metadata": {
        "colab": {
          "base_uri": "https://localhost:8080/",
          "height": 194
        },
        "colab_type": "code",
        "id": "fddJJ7kHTVky",
        "outputId": "7de41851-3727-4c80-ec03-a69dadb3c6ac"
      },
      "outputs": [],
      "source": [
        "check_predictions(model)"
      ]
    },
    {
      "cell_type": "markdown",
      "execution_count": null,
      "metadata": {
        "colab_type": "text",
        "id": "X-HvMVsuUI3H"
      },
      "outputs": [],
      "source": [
        "## Fourth model architecture"
      ]
    },
    {
      "cell_type": "code",
      "execution_count": null,
      "metadata": {
        "colab": {
          "base_uri": "https://localhost:8080/",
          "height": 1000
        },
        "colab_type": "code",
        "id": "I38Vb7qmT6-S",
        "outputId": "39824f87-7028-4c08-f199-95f402245273"
      },
      "outputs": [],
      "source": [
        "model = Sequential()\n",
        "\n",
        "model.add(Dense(15, input_dim=X.shape[1], activation='relu'))\n",
        "model.add(Dense(10, activation='relu'))\n",
        "model.add(Dense(5, activation='relu'))\n",
        "model.add(Dense(1))\n",
        "\n",
        "model.compile(loss='MSE', optimizer='adam', metrics=['mean_squared_error'])\n",
        "\n",
        "model.fit(X, y, epochs=1000, verbose=1, validation_split=.2)"
      ]
    },
    {
      "cell_type": "code",
      "execution_count": null,
      "metadata": {
        "colab": {
          "base_uri": "https://localhost:8080/",
          "height": 194
        },
        "colab_type": "code",
        "id": "U6V0EriAUaQa",
        "outputId": "d996265f-11a8-45d2-b3d4-7e76931535e3"
      },
      "outputs": [],
      "source": [
        "check_predictions(model)"
      ]
    },
    {
      "cell_type": "code",
      "execution_count": null,
      "metadata": {
        "colab": {
          "base_uri": "https://localhost:8080/",
          "height": 283
        },
        "colab_type": "code",
        "id": "AgU5mN9XX8OT",
        "outputId": "c3b754c6-5873-47ee-ddf7-78e9aca1f7fd"
      },
      "outputs": [],
      "source": [
        "predictions = model.predict_on_batch(X)\n",
        "\n",
        "plt.scatter(y, predictions)"
      ]
    },
    {
      "cell_type": "code",
      "execution_count": null,
      "metadata": {
        "colab": {
          "base_uri": "https://localhost:8080/",
          "height": 176
        },
        "colab_type": "code",
        "id": "6Yhgq5rPcbeq",
        "outputId": "9bd385d7-c596-43e8-f768-51b73d7dd257"
      },
      "outputs": [],
      "source": [
        "dfy.describe()"
      ]
    },
    {
      "cell_type": "code",
      "execution_count": null,
      "metadata": {
        "colab": {
          "base_uri": "https://localhost:8080/",
          "height": 369
        },
        "colab_type": "code",
        "id": "DPdC83SScuiA",
        "outputId": "d1df61cb-518b-410f-d6e6-ae60c196762a"
      },
      "outputs": [],
      "source": [
        "df[df['price'] > 10000]"
      ]
    },
    {
      "cell_type": "code",
      "execution_count": null,
      "metadata": {
        "colab": {
          "base_uri": "https://localhost:8080/",
          "height": 35
        },
        "colab_type": "code",
        "id": "yVOqoGfec2Jj",
        "outputId": "387138ae-bbb4-4d20-eec7-295ae75f30d0"
      },
      "outputs": [],
      "source": [
        "df.iloc[10906]['price']"
      ]
    },
    {
      "cell_type": "code",
      "execution_count": null,
      "metadata": {
        "colab": {},
        "colab_type": "code",
        "id": "90dQ6gvLdVAG"
      },
      "outputs": [],
      "source": [
        ""
      ]
    }
  ]
}