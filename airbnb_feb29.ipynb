{
 "cells": [
  {
   "cell_type": "code",
   "execution_count": 1,
   "metadata": {},
   "outputs": [
    {
     "name": "stdout",
     "output_type": "stream",
     "text": [
      "Requirement already satisfied: category_encoders in c:\\users\\james b\\anaconda3\\lib\\site-packages (2.1.0)\n",
      "Requirement already satisfied: patsy>=0.4.1 in c:\\users\\james b\\anaconda3\\lib\\site-packages (from category_encoders) (0.5.1)\n",
      "Requirement already satisfied: scipy>=0.19.0 in c:\\users\\james b\\anaconda3\\lib\\site-packages (from category_encoders) (1.4.1)\n",
      "Requirement already satisfied: numpy>=1.11.3 in c:\\users\\james b\\anaconda3\\lib\\site-packages (from category_encoders) (1.16.5)\n",
      "Requirement already satisfied: pandas>=0.21.1 in c:\\users\\james b\\anaconda3\\lib\\site-packages (from category_encoders) (0.25.3)\n",
      "Requirement already satisfied: statsmodels>=0.6.1 in c:\\users\\james b\\anaconda3\\lib\\site-packages (from category_encoders) (0.10.1)\n",
      "Requirement already satisfied: scikit-learn>=0.20.0 in c:\\users\\james b\\anaconda3\\lib\\site-packages (from category_encoders) (0.21.3)\n",
      "Requirement already satisfied: six in c:\\users\\james b\\anaconda3\\lib\\site-packages (from patsy>=0.4.1->category_encoders) (1.12.0)\n",
      "Requirement already satisfied: python-dateutil>=2.6.1 in c:\\users\\james b\\anaconda3\\lib\\site-packages (from pandas>=0.21.1->category_encoders) (2.8.0)\n",
      "Requirement already satisfied: pytz>=2017.2 in c:\\users\\james b\\anaconda3\\lib\\site-packages (from pandas>=0.21.1->category_encoders) (2019.3)\n",
      "Requirement already satisfied: joblib>=0.11 in c:\\users\\james b\\anaconda3\\lib\\site-packages (from scikit-learn>=0.20.0->category_encoders) (0.13.2)\n"
     ]
    }
   ],
   "source": [
    "!pip install category_encoders"
   ]
  },
  {
   "cell_type": "code",
   "execution_count": 2,
   "metadata": {},
   "outputs": [
    {
     "name": "stdout",
     "output_type": "stream",
     "text": [
      "Requirement already satisfied: eli5 in c:\\users\\james b\\anaconda3\\lib\\site-packages (0.10.1)\n",
      "Requirement already satisfied: tabulate>=0.7.7 in c:\\users\\james b\\anaconda3\\lib\\site-packages (from eli5) (0.8.6)\n",
      "Requirement already satisfied: jinja2 in c:\\users\\james b\\anaconda3\\lib\\site-packages (from eli5) (2.10.3)\n",
      "Requirement already satisfied: attrs>16.0.0 in c:\\users\\james b\\anaconda3\\lib\\site-packages (from eli5) (19.2.0)\n",
      "Requirement already satisfied: graphviz in c:\\users\\james b\\anaconda3\\lib\\site-packages (from eli5) (0.13.2)\n",
      "Requirement already satisfied: scipy in c:\\users\\james b\\anaconda3\\lib\\site-packages (from eli5) (1.4.1)\n",
      "Requirement already satisfied: numpy>=1.9.0 in c:\\users\\james b\\anaconda3\\lib\\site-packages (from eli5) (1.16.5)\n",
      "Requirement already satisfied: six in c:\\users\\james b\\anaconda3\\lib\\site-packages (from eli5) (1.12.0)\n",
      "Requirement already satisfied: scikit-learn>=0.18 in c:\\users\\james b\\anaconda3\\lib\\site-packages (from eli5) (0.21.3)\n",
      "Requirement already satisfied: MarkupSafe>=0.23 in c:\\users\\james b\\anaconda3\\lib\\site-packages (from jinja2->eli5) (1.1.1)\n",
      "Requirement already satisfied: joblib>=0.11 in c:\\users\\james b\\anaconda3\\lib\\site-packages (from scikit-learn>=0.18->eli5) (0.13.2)\n"
     ]
    }
   ],
   "source": [
    "!pip install eli5"
   ]
  },
  {
   "cell_type": "code",
   "execution_count": 3,
   "metadata": {
    "colab": {},
    "colab_type": "code",
    "id": "92O-J9K9I-13"
   },
   "outputs": [],
   "source": [
    "import pandas as pd\n",
    "import numpy as np\n",
    "import matplotlib.pyplot as plt\n",
    "from scipy import stats\n",
    "from sklearn import datasets, linear_model\n",
    "from sklearn.ensemble import RandomForestRegressor\n",
    "from sklearn.feature_selection import f_regression, SelectKBest\n",
    "from sklearn.linear_model import LinearRegression, Ridge\n",
    "from sklearn.model_selection import cross_val_score, GridSearchCV, RandomizedSearchCV, train_test_split, validation_curve\n",
    "from sklearn.metrics import mean_absolute_error\n",
    "from sklearn.pipeline import make_pipeline\n",
    "from sklearn.preprocessing import StandardScaler\n",
    "from sklearn.tree import DecisionTreeRegressor\n",
    "import category_encoders as ce\n",
    "import eli5\n",
    "from eli5.sklearn import PermutationImportance\n",
    "\n",
    "\n",
    "# In order to see all of the columns of the dataset we need to set the display options\n",
    "# from the Pandas package to at least 100 (the dataset has 96 columns) and, for the rows,\n",
    "# I set it to at least 100 which will help when I check for null values and dtypes.\n",
    "\n",
    "pd.set_option('mode.chained_assignment', None) # Everytime I made a new column I would have a warning raised\n",
    "pd.set_option('display.max_columns', 100)\n",
    "pd.set_option('display.max_rows', 100)"
   ]
  },
  {
   "cell_type": "code",
   "execution_count": 4,
   "metadata": {
    "colab": {},
    "colab_type": "code",
    "id": "KWMuEo-UI-1-"
   },
   "outputs": [],
   "source": [
    "# Importing the CSV 'listings_summary.csv' from the Kaggle dataset found at this\n",
    "# URL: https://www.kaggle.com/brittabettendorf/berlin-airbnb-data\n",
    "\n",
    "listings_summary = pd.read_csv('https://raw.githubusercontent.com/BuildWeekAirbnbOptimal2/Datascience/master/Berlin.csv')"
   ]
  },
  {
   "cell_type": "code",
   "execution_count": 5,
   "metadata": {
    "colab": {
     "base_uri": "https://localhost:8080/",
     "height": 35
    },
    "colab_type": "code",
    "id": "uF5N9hUFI-2D",
    "outputId": "855c2061-d77f-41d7-9ea4-442732cc97c2"
   },
   "outputs": [
    {
     "data": {
      "text/plain": [
       "(22552, 96)"
      ]
     },
     "execution_count": 5,
     "metadata": {},
     "output_type": "execute_result"
    }
   ],
   "source": [
    "# As stated above, there are 96 columns and over 20,000 observations\n",
    "\n",
    "listings_summary.shape"
   ]
  },
  {
   "cell_type": "code",
   "execution_count": 6,
   "metadata": {
    "colab": {
     "base_uri": "https://localhost:8080/",
     "height": 1000
    },
    "colab_type": "code",
    "id": "Y7B0JP7_I-2I",
    "outputId": "31623bf3-0124-46d4-cf93-02afd14aa1b9"
   },
   "outputs": [
    {
     "data": {
      "text/plain": [
       "id                                    int64\n",
       "listing_url                          object\n",
       "scrape_id                             int64\n",
       "last_scraped                         object\n",
       "name                                 object\n",
       "summary                              object\n",
       "space                                object\n",
       "description                          object\n",
       "experiences_offered                  object\n",
       "neighborhood_overview                object\n",
       "notes                                object\n",
       "transit                              object\n",
       "access                               object\n",
       "interaction                          object\n",
       "house_rules                          object\n",
       "thumbnail_url                       float64\n",
       "medium_url                          float64\n",
       "picture_url                          object\n",
       "xl_picture_url                      float64\n",
       "host_id                               int64\n",
       "host_url                             object\n",
       "host_name                            object\n",
       "host_since                           object\n",
       "host_location                        object\n",
       "host_about                           object\n",
       "host_response_time                   object\n",
       "host_response_rate                   object\n",
       "host_acceptance_rate                float64\n",
       "host_is_superhost                    object\n",
       "host_thumbnail_url                   object\n",
       "host_picture_url                     object\n",
       "host_neighbourhood                   object\n",
       "host_listings_count                 float64\n",
       "host_total_listings_count           float64\n",
       "host_verifications                   object\n",
       "host_has_profile_pic                 object\n",
       "host_identity_verified               object\n",
       "street                               object\n",
       "neighbourhood                        object\n",
       "neighbourhood_cleansed               object\n",
       "neighbourhood_group_cleansed         object\n",
       "city                                 object\n",
       "state                                object\n",
       "zipcode                              object\n",
       "market                               object\n",
       "smart_location                       object\n",
       "country_code                         object\n",
       "country                              object\n",
       "latitude                            float64\n",
       "longitude                           float64\n",
       "is_location_exact                    object\n",
       "property_type                        object\n",
       "room_type                            object\n",
       "accommodates                          int64\n",
       "bathrooms                           float64\n",
       "bedrooms                            float64\n",
       "beds                                float64\n",
       "bed_type                             object\n",
       "amenities                            object\n",
       "square_feet                         float64\n",
       "price                                object\n",
       "weekly_price                         object\n",
       "monthly_price                        object\n",
       "security_deposit                     object\n",
       "cleaning_fee                         object\n",
       "guests_included                       int64\n",
       "extra_people                         object\n",
       "minimum_nights                        int64\n",
       "maximum_nights                        int64\n",
       "calendar_updated                     object\n",
       "has_availability                     object\n",
       "availability_30                       int64\n",
       "availability_60                       int64\n",
       "availability_90                       int64\n",
       "availability_365                      int64\n",
       "calendar_last_scraped                object\n",
       "number_of_reviews                     int64\n",
       "first_review                         object\n",
       "last_review                          object\n",
       "review_scores_rating                float64\n",
       "review_scores_accuracy              float64\n",
       "review_scores_cleanliness           float64\n",
       "review_scores_checkin               float64\n",
       "review_scores_communication         float64\n",
       "review_scores_location              float64\n",
       "review_scores_value                 float64\n",
       "requires_license                     object\n",
       "license                              object\n",
       "jurisdiction_names                  float64\n",
       "instant_bookable                     object\n",
       "is_business_travel_ready             object\n",
       "cancellation_policy                  object\n",
       "require_guest_profile_picture        object\n",
       "require_guest_phone_verification     object\n",
       "calculated_host_listings_count        int64\n",
       "reviews_per_month                   float64\n",
       "dtype: object"
      ]
     },
     "execution_count": 6,
     "metadata": {},
     "output_type": "execute_result"
    }
   ],
   "source": [
    "# Checking the dtypes of the dataset...\n",
    "\n",
    "# The goal of this project is to find the optimal price for an AirBnB in Belin, Germany so,\n",
    "# the target variable will be the 'price' which is currently an object and therefore, will\n",
    "# have to be dealt with appropriately.\n",
    "\n",
    "listings_summary.dtypes"
   ]
  },
  {
   "cell_type": "code",
   "execution_count": 7,
   "metadata": {
    "colab": {
     "base_uri": "https://localhost:8080/",
     "height": 1000
    },
    "colab_type": "code",
    "id": "pO0Bo1oDI-2M",
    "outputId": "5a301e48-b3bd-4cb9-a8b2-34003b0767cc"
   },
   "outputs": [
    {
     "data": {
      "text/plain": [
       "id                                      0\n",
       "listing_url                             0\n",
       "scrape_id                               0\n",
       "last_scraped                            0\n",
       "name                                   59\n",
       "summary                               963\n",
       "space                                8532\n",
       "description                           203\n",
       "experiences_offered                     0\n",
       "neighborhood_overview               11012\n",
       "notes                               15337\n",
       "transit                              9516\n",
       "access                              11715\n",
       "interaction                         12146\n",
       "house_rules                         11103\n",
       "thumbnail_url                       22552\n",
       "medium_url                          22552\n",
       "picture_url                             0\n",
       "xl_picture_url                      22552\n",
       "host_id                                 0\n",
       "host_url                                0\n",
       "host_name                              26\n",
       "host_since                             26\n",
       "host_location                         116\n",
       "host_about                          11363\n",
       "host_response_time                  12894\n",
       "host_response_rate                  12895\n",
       "host_acceptance_rate                22552\n",
       "host_is_superhost                      26\n",
       "host_thumbnail_url                     26\n",
       "host_picture_url                       26\n",
       "host_neighbourhood                   5094\n",
       "host_listings_count                    26\n",
       "host_total_listings_count              26\n",
       "host_verifications                      0\n",
       "host_has_profile_pic                   26\n",
       "host_identity_verified                 26\n",
       "street                                  0\n",
       "neighbourhood                        1131\n",
       "neighbourhood_cleansed                  0\n",
       "neighbourhood_group_cleansed            0\n",
       "city                                    5\n",
       "state                                  84\n",
       "zipcode                               656\n",
       "market                                 63\n",
       "smart_location                          0\n",
       "country_code                            0\n",
       "country                                 0\n",
       "latitude                                0\n",
       "longitude                               0\n",
       "is_location_exact                       0\n",
       "property_type                           0\n",
       "room_type                               0\n",
       "accommodates                            0\n",
       "bathrooms                              32\n",
       "bedrooms                               18\n",
       "beds                                   40\n",
       "bed_type                                0\n",
       "amenities                               0\n",
       "square_feet                         22106\n",
       "price                                   0\n",
       "weekly_price                        18871\n",
       "monthly_price                       19893\n",
       "security_deposit                     9361\n",
       "cleaning_fee                         7146\n",
       "guests_included                         0\n",
       "extra_people                            0\n",
       "minimum_nights                          0\n",
       "maximum_nights                          0\n",
       "calendar_updated                        0\n",
       "has_availability                        0\n",
       "availability_30                         0\n",
       "availability_60                         0\n",
       "availability_90                         0\n",
       "availability_365                        0\n",
       "calendar_last_scraped                   0\n",
       "number_of_reviews                       0\n",
       "first_review                         3914\n",
       "last_review                          3908\n",
       "review_scores_rating                 4389\n",
       "review_scores_accuracy               4414\n",
       "review_scores_cleanliness            4411\n",
       "review_scores_checkin                4432\n",
       "review_scores_communication          4418\n",
       "review_scores_location               4431\n",
       "review_scores_value                  4435\n",
       "requires_license                        0\n",
       "license                             20914\n",
       "jurisdiction_names                  22552\n",
       "instant_bookable                        0\n",
       "is_business_travel_ready                0\n",
       "cancellation_policy                     0\n",
       "require_guest_profile_picture           0\n",
       "require_guest_phone_verification        0\n",
       "calculated_host_listings_count          0\n",
       "reviews_per_month                    3914\n",
       "dtype: int64"
      ]
     },
     "execution_count": 7,
     "metadata": {},
     "output_type": "execute_result"
    }
   ],
   "source": [
    "# Next we will check for the null values within the dataset - there are quite a few...\n",
    "\n",
    "listings_summary.isna().sum()"
   ]
  },
  {
   "cell_type": "code",
   "execution_count": 8,
   "metadata": {
    "colab": {
     "base_uri": "https://localhost:8080/",
     "height": 202
    },
    "colab_type": "code",
    "id": "LnhJr1aPI-2Q",
    "outputId": "298a6c73-37aa-45ae-c0b9-659f7a553427"
   },
   "outputs": [
    {
     "data": {
      "text/html": [
       "<div>\n",
       "<style scoped>\n",
       "    .dataframe tbody tr th:only-of-type {\n",
       "        vertical-align: middle;\n",
       "    }\n",
       "\n",
       "    .dataframe tbody tr th {\n",
       "        vertical-align: top;\n",
       "    }\n",
       "\n",
       "    .dataframe thead th {\n",
       "        text-align: right;\n",
       "    }\n",
       "</style>\n",
       "<table border=\"1\" class=\"dataframe\">\n",
       "  <thead>\n",
       "    <tr style=\"text-align: right;\">\n",
       "      <th></th>\n",
       "      <th>id</th>\n",
       "      <th>listing_url</th>\n",
       "      <th>scrape_id</th>\n",
       "      <th>last_scraped</th>\n",
       "      <th>name</th>\n",
       "      <th>summary</th>\n",
       "      <th>space</th>\n",
       "      <th>description</th>\n",
       "      <th>experiences_offered</th>\n",
       "      <th>neighborhood_overview</th>\n",
       "      <th>notes</th>\n",
       "      <th>transit</th>\n",
       "      <th>access</th>\n",
       "      <th>interaction</th>\n",
       "      <th>house_rules</th>\n",
       "      <th>thumbnail_url</th>\n",
       "      <th>medium_url</th>\n",
       "      <th>picture_url</th>\n",
       "      <th>xl_picture_url</th>\n",
       "      <th>host_id</th>\n",
       "      <th>host_url</th>\n",
       "      <th>host_name</th>\n",
       "      <th>host_since</th>\n",
       "      <th>host_location</th>\n",
       "      <th>host_about</th>\n",
       "      <th>host_response_time</th>\n",
       "      <th>host_response_rate</th>\n",
       "      <th>host_acceptance_rate</th>\n",
       "      <th>host_is_superhost</th>\n",
       "      <th>host_thumbnail_url</th>\n",
       "      <th>host_picture_url</th>\n",
       "      <th>host_neighbourhood</th>\n",
       "      <th>host_listings_count</th>\n",
       "      <th>host_total_listings_count</th>\n",
       "      <th>host_verifications</th>\n",
       "      <th>host_has_profile_pic</th>\n",
       "      <th>host_identity_verified</th>\n",
       "      <th>street</th>\n",
       "      <th>neighbourhood</th>\n",
       "      <th>neighbourhood_cleansed</th>\n",
       "      <th>neighbourhood_group_cleansed</th>\n",
       "      <th>city</th>\n",
       "      <th>state</th>\n",
       "      <th>zipcode</th>\n",
       "      <th>market</th>\n",
       "      <th>smart_location</th>\n",
       "      <th>country_code</th>\n",
       "      <th>country</th>\n",
       "      <th>latitude</th>\n",
       "      <th>longitude</th>\n",
       "      <th>is_location_exact</th>\n",
       "      <th>property_type</th>\n",
       "      <th>room_type</th>\n",
       "      <th>accommodates</th>\n",
       "      <th>bathrooms</th>\n",
       "      <th>bedrooms</th>\n",
       "      <th>beds</th>\n",
       "      <th>bed_type</th>\n",
       "      <th>amenities</th>\n",
       "      <th>square_feet</th>\n",
       "      <th>price</th>\n",
       "      <th>weekly_price</th>\n",
       "      <th>monthly_price</th>\n",
       "      <th>security_deposit</th>\n",
       "      <th>cleaning_fee</th>\n",
       "      <th>guests_included</th>\n",
       "      <th>extra_people</th>\n",
       "      <th>minimum_nights</th>\n",
       "      <th>maximum_nights</th>\n",
       "      <th>calendar_updated</th>\n",
       "      <th>has_availability</th>\n",
       "      <th>availability_30</th>\n",
       "      <th>availability_60</th>\n",
       "      <th>availability_90</th>\n",
       "      <th>availability_365</th>\n",
       "      <th>calendar_last_scraped</th>\n",
       "      <th>number_of_reviews</th>\n",
       "      <th>first_review</th>\n",
       "      <th>last_review</th>\n",
       "      <th>review_scores_rating</th>\n",
       "      <th>review_scores_accuracy</th>\n",
       "      <th>review_scores_cleanliness</th>\n",
       "      <th>review_scores_checkin</th>\n",
       "      <th>review_scores_communication</th>\n",
       "      <th>review_scores_location</th>\n",
       "      <th>review_scores_value</th>\n",
       "      <th>requires_license</th>\n",
       "      <th>license</th>\n",
       "      <th>jurisdiction_names</th>\n",
       "      <th>instant_bookable</th>\n",
       "      <th>is_business_travel_ready</th>\n",
       "      <th>cancellation_policy</th>\n",
       "      <th>require_guest_profile_picture</th>\n",
       "      <th>require_guest_phone_verification</th>\n",
       "      <th>calculated_host_listings_count</th>\n",
       "      <th>reviews_per_month</th>\n",
       "    </tr>\n",
       "  </thead>\n",
       "  <tbody>\n",
       "    <tr>\n",
       "      <th>0</th>\n",
       "      <td>2015</td>\n",
       "      <td>https://www.airbnb.com/rooms/2015</td>\n",
       "      <td>20181107122246</td>\n",
       "      <td>2018-11-07</td>\n",
       "      <td>Berlin-Mitte Value! Quiet courtyard/very central</td>\n",
       "      <td>Great location!  30 of 75 sq meters. This wood...</td>\n",
       "      <td>A+++ location! This „Einliegerwohnung“ is an e...</td>\n",
       "      <td>Great location!  30 of 75 sq meters. This wood...</td>\n",
       "      <td>none</td>\n",
       "      <td>It is located in the former East Berlin area o...</td>\n",
       "      <td>This is my home, not a hotel. I rent out occas...</td>\n",
       "      <td>Close to U-Bahn U8 and U2 (metro), Trams M12, ...</td>\n",
       "      <td>Simple kitchen/cooking, refrigerator, microwav...</td>\n",
       "      <td>Always available</td>\n",
       "      <td>No parties No events No pets No smoking, not e...</td>\n",
       "      <td>NaN</td>\n",
       "      <td>NaN</td>\n",
       "      <td>https://a0.muscache.com/im/pictures/260fd609-7...</td>\n",
       "      <td>NaN</td>\n",
       "      <td>2217</td>\n",
       "      <td>https://www.airbnb.com/users/show/2217</td>\n",
       "      <td>Ian</td>\n",
       "      <td>2008-08-18</td>\n",
       "      <td>Key Biscayne, Florida, United States</td>\n",
       "      <td>Believe in sharing economy.</td>\n",
       "      <td>within an hour</td>\n",
       "      <td>96%</td>\n",
       "      <td>NaN</td>\n",
       "      <td>t</td>\n",
       "      <td>https://a0.muscache.com/im/pictures/21428a22-4...</td>\n",
       "      <td>https://a0.muscache.com/im/pictures/21428a22-4...</td>\n",
       "      <td>Mitte</td>\n",
       "      <td>4.0</td>\n",
       "      <td>4.0</td>\n",
       "      <td>['email', 'phone', 'reviews', 'jumio', 'offlin...</td>\n",
       "      <td>t</td>\n",
       "      <td>t</td>\n",
       "      <td>Berlin, Berlin, Germany</td>\n",
       "      <td>Mitte</td>\n",
       "      <td>Brunnenstr. Süd</td>\n",
       "      <td>Mitte</td>\n",
       "      <td>Berlin</td>\n",
       "      <td>Berlin</td>\n",
       "      <td>10119</td>\n",
       "      <td>Berlin</td>\n",
       "      <td>Berlin, Germany</td>\n",
       "      <td>DE</td>\n",
       "      <td>Germany</td>\n",
       "      <td>52.534537</td>\n",
       "      <td>13.402557</td>\n",
       "      <td>f</td>\n",
       "      <td>Guesthouse</td>\n",
       "      <td>Entire home/apt</td>\n",
       "      <td>3</td>\n",
       "      <td>1.0</td>\n",
       "      <td>1.0</td>\n",
       "      <td>2.0</td>\n",
       "      <td>Real Bed</td>\n",
       "      <td>{TV,\"Cable TV\",Wifi,Kitchen,Gym,Heating,\"Famil...</td>\n",
       "      <td>NaN</td>\n",
       "      <td>$60.00</td>\n",
       "      <td>NaN</td>\n",
       "      <td>NaN</td>\n",
       "      <td>$200.00</td>\n",
       "      <td>$30.00</td>\n",
       "      <td>1</td>\n",
       "      <td>$28.00</td>\n",
       "      <td>4</td>\n",
       "      <td>1125</td>\n",
       "      <td>3 months ago</td>\n",
       "      <td>t</td>\n",
       "      <td>0</td>\n",
       "      <td>21</td>\n",
       "      <td>51</td>\n",
       "      <td>141</td>\n",
       "      <td>2018-11-07</td>\n",
       "      <td>118</td>\n",
       "      <td>2016-04-11</td>\n",
       "      <td>2018-10-28</td>\n",
       "      <td>93.0</td>\n",
       "      <td>10.0</td>\n",
       "      <td>9.0</td>\n",
       "      <td>10.0</td>\n",
       "      <td>10.0</td>\n",
       "      <td>10.0</td>\n",
       "      <td>9.0</td>\n",
       "      <td>t</td>\n",
       "      <td>NaN</td>\n",
       "      <td>NaN</td>\n",
       "      <td>f</td>\n",
       "      <td>f</td>\n",
       "      <td>strict_14_with_grace_period</td>\n",
       "      <td>f</td>\n",
       "      <td>f</td>\n",
       "      <td>4</td>\n",
       "      <td>3.76</td>\n",
       "    </tr>\n",
       "  </tbody>\n",
       "</table>\n",
       "</div>"
      ],
      "text/plain": [
       "     id                        listing_url       scrape_id last_scraped  \\\n",
       "0  2015  https://www.airbnb.com/rooms/2015  20181107122246   2018-11-07   \n",
       "\n",
       "                                               name  \\\n",
       "0  Berlin-Mitte Value! Quiet courtyard/very central   \n",
       "\n",
       "                                             summary  \\\n",
       "0  Great location!  30 of 75 sq meters. This wood...   \n",
       "\n",
       "                                               space  \\\n",
       "0  A+++ location! This „Einliegerwohnung“ is an e...   \n",
       "\n",
       "                                         description experiences_offered  \\\n",
       "0  Great location!  30 of 75 sq meters. This wood...                none   \n",
       "\n",
       "                               neighborhood_overview  \\\n",
       "0  It is located in the former East Berlin area o...   \n",
       "\n",
       "                                               notes  \\\n",
       "0  This is my home, not a hotel. I rent out occas...   \n",
       "\n",
       "                                             transit  \\\n",
       "0  Close to U-Bahn U8 and U2 (metro), Trams M12, ...   \n",
       "\n",
       "                                              access       interaction  \\\n",
       "0  Simple kitchen/cooking, refrigerator, microwav...  Always available   \n",
       "\n",
       "                                         house_rules  thumbnail_url  \\\n",
       "0  No parties No events No pets No smoking, not e...            NaN   \n",
       "\n",
       "   medium_url                                        picture_url  \\\n",
       "0         NaN  https://a0.muscache.com/im/pictures/260fd609-7...   \n",
       "\n",
       "   xl_picture_url  host_id                                host_url host_name  \\\n",
       "0             NaN     2217  https://www.airbnb.com/users/show/2217       Ian   \n",
       "\n",
       "   host_since                         host_location  \\\n",
       "0  2008-08-18  Key Biscayne, Florida, United States   \n",
       "\n",
       "                    host_about host_response_time host_response_rate  \\\n",
       "0  Believe in sharing economy.     within an hour                96%   \n",
       "\n",
       "   host_acceptance_rate host_is_superhost  \\\n",
       "0                   NaN                 t   \n",
       "\n",
       "                                  host_thumbnail_url  \\\n",
       "0  https://a0.muscache.com/im/pictures/21428a22-4...   \n",
       "\n",
       "                                    host_picture_url host_neighbourhood  \\\n",
       "0  https://a0.muscache.com/im/pictures/21428a22-4...              Mitte   \n",
       "\n",
       "   host_listings_count  host_total_listings_count  \\\n",
       "0                  4.0                        4.0   \n",
       "\n",
       "                                  host_verifications host_has_profile_pic  \\\n",
       "0  ['email', 'phone', 'reviews', 'jumio', 'offlin...                    t   \n",
       "\n",
       "  host_identity_verified                   street neighbourhood  \\\n",
       "0                      t  Berlin, Berlin, Germany         Mitte   \n",
       "\n",
       "  neighbourhood_cleansed neighbourhood_group_cleansed    city   state zipcode  \\\n",
       "0        Brunnenstr. Süd                        Mitte  Berlin  Berlin   10119   \n",
       "\n",
       "   market   smart_location country_code  country   latitude  longitude  \\\n",
       "0  Berlin  Berlin, Germany           DE  Germany  52.534537  13.402557   \n",
       "\n",
       "  is_location_exact property_type        room_type  accommodates  bathrooms  \\\n",
       "0                 f    Guesthouse  Entire home/apt             3        1.0   \n",
       "\n",
       "   bedrooms  beds  bed_type  \\\n",
       "0       1.0   2.0  Real Bed   \n",
       "\n",
       "                                           amenities  square_feet   price  \\\n",
       "0  {TV,\"Cable TV\",Wifi,Kitchen,Gym,Heating,\"Famil...          NaN  $60.00   \n",
       "\n",
       "  weekly_price monthly_price security_deposit cleaning_fee  guests_included  \\\n",
       "0          NaN           NaN          $200.00       $30.00                1   \n",
       "\n",
       "  extra_people  minimum_nights  maximum_nights calendar_updated  \\\n",
       "0       $28.00               4            1125     3 months ago   \n",
       "\n",
       "  has_availability  availability_30  availability_60  availability_90  \\\n",
       "0                t                0               21               51   \n",
       "\n",
       "   availability_365 calendar_last_scraped  number_of_reviews first_review  \\\n",
       "0               141            2018-11-07                118   2016-04-11   \n",
       "\n",
       "  last_review  review_scores_rating  review_scores_accuracy  \\\n",
       "0  2018-10-28                  93.0                    10.0   \n",
       "\n",
       "   review_scores_cleanliness  review_scores_checkin  \\\n",
       "0                        9.0                   10.0   \n",
       "\n",
       "   review_scores_communication  review_scores_location  review_scores_value  \\\n",
       "0                         10.0                    10.0                  9.0   \n",
       "\n",
       "  requires_license license  jurisdiction_names instant_bookable  \\\n",
       "0                t     NaN                 NaN                f   \n",
       "\n",
       "  is_business_travel_ready          cancellation_policy  \\\n",
       "0                        f  strict_14_with_grace_period   \n",
       "\n",
       "  require_guest_profile_picture require_guest_phone_verification  \\\n",
       "0                             f                                f   \n",
       "\n",
       "   calculated_host_listings_count  reviews_per_month  \n",
       "0                               4               3.76  "
      ]
     },
     "execution_count": 8,
     "metadata": {},
     "output_type": "execute_result"
    }
   ],
   "source": [
    "# Calling the head of the dataset to visualize what the first row of observations looks like\n",
    "\n",
    "listings_summary.head(1)"
   ]
  },
  {
   "cell_type": "code",
   "execution_count": 9,
   "metadata": {
    "colab": {},
    "colab_type": "code",
    "id": "qLjDA1dEI-2U"
   },
   "outputs": [],
   "source": [
    "# We can already tell later on we will have to drop a few columns where the cardinality for some\n",
    "# object features, while finite, will be very high epecially in the case of URLs, names, reviews,\n",
    "# descriptions, etc. so we will remove a few of them now and possibly later."
   ]
  },
  {
   "cell_type": "code",
   "execution_count": 10,
   "metadata": {
    "colab": {
     "base_uri": "https://localhost:8080/",
     "height": 1000
    },
    "colab_type": "code",
    "id": "j-LG5uTeI-2Y",
    "outputId": "f0ebb0f3-f73f-49ea-ef0b-104d40f174b0"
   },
   "outputs": [
    {
     "name": "stdout",
     "output_type": "stream",
     "text": [
      "None\n",
      "There are/is 22552 unique value(s) for column: listing_url\n",
      "None\n",
      "There are/is 2 unique value(s) for column: last_scraped\n",
      "There are/is 21873 unique value(s) for column: name\n",
      "There are/is 21041 unique value(s) for column: summary\n",
      "There are/is 13598 unique value(s) for column: space\n",
      "There are/is 21997 unique value(s) for column: description\n",
      "There are/is 1 unique value(s) for column: experiences_offered\n",
      "There are/is 10781 unique value(s) for column: neighborhood_overview\n",
      "There are/is 6687 unique value(s) for column: notes\n",
      "There are/is 12308 unique value(s) for column: transit\n",
      "There are/is 9946 unique value(s) for column: access\n",
      "There are/is 9584 unique value(s) for column: interaction\n",
      "There are/is 10350 unique value(s) for column: house_rules\n",
      "None\n",
      "None\n",
      "There are/is 22465 unique value(s) for column: picture_url\n",
      "None\n",
      "None\n",
      "There are/is 19180 unique value(s) for column: host_url\n",
      "There are/is 5997 unique value(s) for column: host_name\n",
      "There are/is 2914 unique value(s) for column: host_since\n",
      "There are/is 1036 unique value(s) for column: host_location\n",
      "There are/is 8879 unique value(s) for column: host_about\n",
      "There are/is 4 unique value(s) for column: host_response_time\n",
      "There are/is 64 unique value(s) for column: host_response_rate\n",
      "None\n",
      "There are/is 2 unique value(s) for column: host_is_superhost\n",
      "There are/is 19100 unique value(s) for column: host_thumbnail_url\n",
      "There are/is 19100 unique value(s) for column: host_picture_url\n",
      "There are/is 181 unique value(s) for column: host_neighbourhood\n",
      "None\n",
      "None\n",
      "There are/is 301 unique value(s) for column: host_verifications\n",
      "There are/is 2 unique value(s) for column: host_has_profile_pic\n",
      "There are/is 2 unique value(s) for column: host_identity_verified\n",
      "There are/is 86 unique value(s) for column: street\n",
      "There are/is 91 unique value(s) for column: neighbourhood\n",
      "There are/is 136 unique value(s) for column: neighbourhood_cleansed\n",
      "There are/is 12 unique value(s) for column: neighbourhood_group_cleansed\n",
      "There are/is 60 unique value(s) for column: city\n",
      "There are/is 19 unique value(s) for column: state\n",
      "There are/is 215 unique value(s) for column: zipcode\n",
      "There are/is 6 unique value(s) for column: market\n",
      "There are/is 61 unique value(s) for column: smart_location\n",
      "There are/is 1 unique value(s) for column: country_code\n",
      "There are/is 1 unique value(s) for column: country\n",
      "None\n",
      "None\n",
      "There are/is 2 unique value(s) for column: is_location_exact\n",
      "There are/is 33 unique value(s) for column: property_type\n",
      "There are/is 3 unique value(s) for column: room_type\n",
      "None\n",
      "None\n",
      "None\n",
      "None\n",
      "There are/is 5 unique value(s) for column: bed_type\n",
      "There are/is 19985 unique value(s) for column: amenities\n",
      "None\n",
      "There are/is 295 unique value(s) for column: price\n",
      "There are/is 387 unique value(s) for column: weekly_price\n",
      "There are/is 426 unique value(s) for column: monthly_price\n",
      "There are/is 142 unique value(s) for column: security_deposit\n",
      "There are/is 112 unique value(s) for column: cleaning_fee\n",
      "None\n",
      "There are/is 65 unique value(s) for column: extra_people\n",
      "None\n",
      "None\n",
      "There are/is 75 unique value(s) for column: calendar_updated\n",
      "There are/is 1 unique value(s) for column: has_availability\n",
      "None\n",
      "None\n",
      "None\n",
      "None\n",
      "There are/is 2 unique value(s) for column: calendar_last_scraped\n",
      "None\n",
      "There are/is 2228 unique value(s) for column: first_review\n",
      "There are/is 1312 unique value(s) for column: last_review\n",
      "None\n",
      "None\n",
      "None\n",
      "None\n",
      "None\n",
      "None\n",
      "None\n",
      "There are/is 2 unique value(s) for column: requires_license\n",
      "There are/is 1387 unique value(s) for column: license\n",
      "None\n",
      "There are/is 2 unique value(s) for column: instant_bookable\n",
      "There are/is 1 unique value(s) for column: is_business_travel_ready\n",
      "There are/is 5 unique value(s) for column: cancellation_policy\n",
      "There are/is 2 unique value(s) for column: require_guest_profile_picture\n",
      "There are/is 2 unique value(s) for column: require_guest_phone_verification\n",
      "None\n",
      "None\n"
     ]
    }
   ],
   "source": [
    "# First, we will use a for loop to check the number of unique values in each column.  This is acheived\n",
    "# by taking the length of the value_counts of a column.\n",
    "\n",
    "for col in listings_summary:\n",
    "    print(f'There are/is {len(listings_summary[col].value_counts())} unique value(s) for column: {col}') if listings_summary[col].dtypes=='O' else print(None)"
   ]
  },
  {
   "cell_type": "code",
   "execution_count": 11,
   "metadata": {
    "colab": {
     "base_uri": "https://localhost:8080/",
     "height": 202
    },
    "colab_type": "code",
    "id": "fYrC8g-QI-2b",
    "outputId": "7ee30477-b4a0-4f7a-f977-4b0929e65d16"
   },
   "outputs": [
    {
     "data": {
      "text/html": [
       "<div>\n",
       "<style scoped>\n",
       "    .dataframe tbody tr th:only-of-type {\n",
       "        vertical-align: middle;\n",
       "    }\n",
       "\n",
       "    .dataframe tbody tr th {\n",
       "        vertical-align: top;\n",
       "    }\n",
       "\n",
       "    .dataframe thead th {\n",
       "        text-align: right;\n",
       "    }\n",
       "</style>\n",
       "<table border=\"1\" class=\"dataframe\">\n",
       "  <thead>\n",
       "    <tr style=\"text-align: right;\">\n",
       "      <th></th>\n",
       "      <th>id</th>\n",
       "      <th>listing_url</th>\n",
       "      <th>scrape_id</th>\n",
       "      <th>last_scraped</th>\n",
       "      <th>name</th>\n",
       "      <th>summary</th>\n",
       "      <th>space</th>\n",
       "      <th>description</th>\n",
       "      <th>experiences_offered</th>\n",
       "      <th>neighborhood_overview</th>\n",
       "      <th>notes</th>\n",
       "      <th>transit</th>\n",
       "      <th>access</th>\n",
       "      <th>interaction</th>\n",
       "      <th>house_rules</th>\n",
       "      <th>thumbnail_url</th>\n",
       "      <th>medium_url</th>\n",
       "      <th>picture_url</th>\n",
       "      <th>xl_picture_url</th>\n",
       "      <th>host_id</th>\n",
       "      <th>host_url</th>\n",
       "      <th>host_name</th>\n",
       "      <th>host_since</th>\n",
       "      <th>host_location</th>\n",
       "      <th>host_about</th>\n",
       "      <th>host_response_time</th>\n",
       "      <th>host_response_rate</th>\n",
       "      <th>host_acceptance_rate</th>\n",
       "      <th>host_is_superhost</th>\n",
       "      <th>host_thumbnail_url</th>\n",
       "      <th>host_picture_url</th>\n",
       "      <th>host_neighbourhood</th>\n",
       "      <th>host_listings_count</th>\n",
       "      <th>host_total_listings_count</th>\n",
       "      <th>host_verifications</th>\n",
       "      <th>host_has_profile_pic</th>\n",
       "      <th>host_identity_verified</th>\n",
       "      <th>street</th>\n",
       "      <th>neighbourhood</th>\n",
       "      <th>neighbourhood_cleansed</th>\n",
       "      <th>neighbourhood_group_cleansed</th>\n",
       "      <th>city</th>\n",
       "      <th>state</th>\n",
       "      <th>zipcode</th>\n",
       "      <th>market</th>\n",
       "      <th>smart_location</th>\n",
       "      <th>country_code</th>\n",
       "      <th>country</th>\n",
       "      <th>latitude</th>\n",
       "      <th>longitude</th>\n",
       "      <th>is_location_exact</th>\n",
       "      <th>property_type</th>\n",
       "      <th>room_type</th>\n",
       "      <th>accommodates</th>\n",
       "      <th>bathrooms</th>\n",
       "      <th>bedrooms</th>\n",
       "      <th>beds</th>\n",
       "      <th>bed_type</th>\n",
       "      <th>amenities</th>\n",
       "      <th>square_feet</th>\n",
       "      <th>price</th>\n",
       "      <th>weekly_price</th>\n",
       "      <th>monthly_price</th>\n",
       "      <th>security_deposit</th>\n",
       "      <th>cleaning_fee</th>\n",
       "      <th>guests_included</th>\n",
       "      <th>extra_people</th>\n",
       "      <th>minimum_nights</th>\n",
       "      <th>maximum_nights</th>\n",
       "      <th>calendar_updated</th>\n",
       "      <th>has_availability</th>\n",
       "      <th>availability_30</th>\n",
       "      <th>availability_60</th>\n",
       "      <th>availability_90</th>\n",
       "      <th>availability_365</th>\n",
       "      <th>calendar_last_scraped</th>\n",
       "      <th>number_of_reviews</th>\n",
       "      <th>first_review</th>\n",
       "      <th>last_review</th>\n",
       "      <th>review_scores_rating</th>\n",
       "      <th>review_scores_accuracy</th>\n",
       "      <th>review_scores_cleanliness</th>\n",
       "      <th>review_scores_checkin</th>\n",
       "      <th>review_scores_communication</th>\n",
       "      <th>review_scores_location</th>\n",
       "      <th>review_scores_value</th>\n",
       "      <th>requires_license</th>\n",
       "      <th>license</th>\n",
       "      <th>jurisdiction_names</th>\n",
       "      <th>instant_bookable</th>\n",
       "      <th>is_business_travel_ready</th>\n",
       "      <th>cancellation_policy</th>\n",
       "      <th>require_guest_profile_picture</th>\n",
       "      <th>require_guest_phone_verification</th>\n",
       "      <th>calculated_host_listings_count</th>\n",
       "      <th>reviews_per_month</th>\n",
       "    </tr>\n",
       "  </thead>\n",
       "  <tbody>\n",
       "    <tr>\n",
       "      <th>0</th>\n",
       "      <td>2015</td>\n",
       "      <td>https://www.airbnb.com/rooms/2015</td>\n",
       "      <td>20181107122246</td>\n",
       "      <td>2018-11-07</td>\n",
       "      <td>Berlin-Mitte Value! Quiet courtyard/very central</td>\n",
       "      <td>Great location!  30 of 75 sq meters. This wood...</td>\n",
       "      <td>A+++ location! This „Einliegerwohnung“ is an e...</td>\n",
       "      <td>Great location!  30 of 75 sq meters. This wood...</td>\n",
       "      <td>none</td>\n",
       "      <td>It is located in the former East Berlin area o...</td>\n",
       "      <td>This is my home, not a hotel. I rent out occas...</td>\n",
       "      <td>Close to U-Bahn U8 and U2 (metro), Trams M12, ...</td>\n",
       "      <td>Simple kitchen/cooking, refrigerator, microwav...</td>\n",
       "      <td>Always available</td>\n",
       "      <td>No parties No events No pets No smoking, not e...</td>\n",
       "      <td>NaN</td>\n",
       "      <td>NaN</td>\n",
       "      <td>https://a0.muscache.com/im/pictures/260fd609-7...</td>\n",
       "      <td>NaN</td>\n",
       "      <td>2217</td>\n",
       "      <td>https://www.airbnb.com/users/show/2217</td>\n",
       "      <td>Ian</td>\n",
       "      <td>2008-08-18</td>\n",
       "      <td>Key Biscayne, Florida, United States</td>\n",
       "      <td>Believe in sharing economy.</td>\n",
       "      <td>within an hour</td>\n",
       "      <td>96%</td>\n",
       "      <td>NaN</td>\n",
       "      <td>t</td>\n",
       "      <td>https://a0.muscache.com/im/pictures/21428a22-4...</td>\n",
       "      <td>https://a0.muscache.com/im/pictures/21428a22-4...</td>\n",
       "      <td>Mitte</td>\n",
       "      <td>4.0</td>\n",
       "      <td>4.0</td>\n",
       "      <td>['email', 'phone', 'reviews', 'jumio', 'offlin...</td>\n",
       "      <td>t</td>\n",
       "      <td>t</td>\n",
       "      <td>Berlin, Berlin, Germany</td>\n",
       "      <td>Mitte</td>\n",
       "      <td>Brunnenstr. Süd</td>\n",
       "      <td>Mitte</td>\n",
       "      <td>Berlin</td>\n",
       "      <td>Berlin</td>\n",
       "      <td>10119</td>\n",
       "      <td>Berlin</td>\n",
       "      <td>Berlin, Germany</td>\n",
       "      <td>DE</td>\n",
       "      <td>Germany</td>\n",
       "      <td>52.534537</td>\n",
       "      <td>13.402557</td>\n",
       "      <td>f</td>\n",
       "      <td>Guesthouse</td>\n",
       "      <td>Entire home/apt</td>\n",
       "      <td>3</td>\n",
       "      <td>1.0</td>\n",
       "      <td>1.0</td>\n",
       "      <td>2.0</td>\n",
       "      <td>Real Bed</td>\n",
       "      <td>{TV,\"Cable TV\",Wifi,Kitchen,Gym,Heating,\"Famil...</td>\n",
       "      <td>NaN</td>\n",
       "      <td>$60.00</td>\n",
       "      <td>NaN</td>\n",
       "      <td>NaN</td>\n",
       "      <td>$200.00</td>\n",
       "      <td>$30.00</td>\n",
       "      <td>1</td>\n",
       "      <td>$28.00</td>\n",
       "      <td>4</td>\n",
       "      <td>1125</td>\n",
       "      <td>3 months ago</td>\n",
       "      <td>t</td>\n",
       "      <td>0</td>\n",
       "      <td>21</td>\n",
       "      <td>51</td>\n",
       "      <td>141</td>\n",
       "      <td>2018-11-07</td>\n",
       "      <td>118</td>\n",
       "      <td>2016-04-11</td>\n",
       "      <td>2018-10-28</td>\n",
       "      <td>93.0</td>\n",
       "      <td>10.0</td>\n",
       "      <td>9.0</td>\n",
       "      <td>10.0</td>\n",
       "      <td>10.0</td>\n",
       "      <td>10.0</td>\n",
       "      <td>9.0</td>\n",
       "      <td>t</td>\n",
       "      <td>NaN</td>\n",
       "      <td>NaN</td>\n",
       "      <td>f</td>\n",
       "      <td>f</td>\n",
       "      <td>strict_14_with_grace_period</td>\n",
       "      <td>f</td>\n",
       "      <td>f</td>\n",
       "      <td>4</td>\n",
       "      <td>3.76</td>\n",
       "    </tr>\n",
       "  </tbody>\n",
       "</table>\n",
       "</div>"
      ],
      "text/plain": [
       "     id                        listing_url       scrape_id last_scraped  \\\n",
       "0  2015  https://www.airbnb.com/rooms/2015  20181107122246   2018-11-07   \n",
       "\n",
       "                                               name  \\\n",
       "0  Berlin-Mitte Value! Quiet courtyard/very central   \n",
       "\n",
       "                                             summary  \\\n",
       "0  Great location!  30 of 75 sq meters. This wood...   \n",
       "\n",
       "                                               space  \\\n",
       "0  A+++ location! This „Einliegerwohnung“ is an e...   \n",
       "\n",
       "                                         description experiences_offered  \\\n",
       "0  Great location!  30 of 75 sq meters. This wood...                none   \n",
       "\n",
       "                               neighborhood_overview  \\\n",
       "0  It is located in the former East Berlin area o...   \n",
       "\n",
       "                                               notes  \\\n",
       "0  This is my home, not a hotel. I rent out occas...   \n",
       "\n",
       "                                             transit  \\\n",
       "0  Close to U-Bahn U8 and U2 (metro), Trams M12, ...   \n",
       "\n",
       "                                              access       interaction  \\\n",
       "0  Simple kitchen/cooking, refrigerator, microwav...  Always available   \n",
       "\n",
       "                                         house_rules  thumbnail_url  \\\n",
       "0  No parties No events No pets No smoking, not e...            NaN   \n",
       "\n",
       "   medium_url                                        picture_url  \\\n",
       "0         NaN  https://a0.muscache.com/im/pictures/260fd609-7...   \n",
       "\n",
       "   xl_picture_url  host_id                                host_url host_name  \\\n",
       "0             NaN     2217  https://www.airbnb.com/users/show/2217       Ian   \n",
       "\n",
       "   host_since                         host_location  \\\n",
       "0  2008-08-18  Key Biscayne, Florida, United States   \n",
       "\n",
       "                    host_about host_response_time host_response_rate  \\\n",
       "0  Believe in sharing economy.     within an hour                96%   \n",
       "\n",
       "   host_acceptance_rate host_is_superhost  \\\n",
       "0                   NaN                 t   \n",
       "\n",
       "                                  host_thumbnail_url  \\\n",
       "0  https://a0.muscache.com/im/pictures/21428a22-4...   \n",
       "\n",
       "                                    host_picture_url host_neighbourhood  \\\n",
       "0  https://a0.muscache.com/im/pictures/21428a22-4...              Mitte   \n",
       "\n",
       "   host_listings_count  host_total_listings_count  \\\n",
       "0                  4.0                        4.0   \n",
       "\n",
       "                                  host_verifications host_has_profile_pic  \\\n",
       "0  ['email', 'phone', 'reviews', 'jumio', 'offlin...                    t   \n",
       "\n",
       "  host_identity_verified                   street neighbourhood  \\\n",
       "0                      t  Berlin, Berlin, Germany         Mitte   \n",
       "\n",
       "  neighbourhood_cleansed neighbourhood_group_cleansed    city   state zipcode  \\\n",
       "0        Brunnenstr. Süd                        Mitte  Berlin  Berlin   10119   \n",
       "\n",
       "   market   smart_location country_code  country   latitude  longitude  \\\n",
       "0  Berlin  Berlin, Germany           DE  Germany  52.534537  13.402557   \n",
       "\n",
       "  is_location_exact property_type        room_type  accommodates  bathrooms  \\\n",
       "0                 f    Guesthouse  Entire home/apt             3        1.0   \n",
       "\n",
       "   bedrooms  beds  bed_type  \\\n",
       "0       1.0   2.0  Real Bed   \n",
       "\n",
       "                                           amenities  square_feet   price  \\\n",
       "0  {TV,\"Cable TV\",Wifi,Kitchen,Gym,Heating,\"Famil...          NaN  $60.00   \n",
       "\n",
       "  weekly_price monthly_price security_deposit cleaning_fee  guests_included  \\\n",
       "0          NaN           NaN          $200.00       $30.00                1   \n",
       "\n",
       "  extra_people  minimum_nights  maximum_nights calendar_updated  \\\n",
       "0       $28.00               4            1125     3 months ago   \n",
       "\n",
       "  has_availability  availability_30  availability_60  availability_90  \\\n",
       "0                t                0               21               51   \n",
       "\n",
       "   availability_365 calendar_last_scraped  number_of_reviews first_review  \\\n",
       "0               141            2018-11-07                118   2016-04-11   \n",
       "\n",
       "  last_review  review_scores_rating  review_scores_accuracy  \\\n",
       "0  2018-10-28                  93.0                    10.0   \n",
       "\n",
       "   review_scores_cleanliness  review_scores_checkin  \\\n",
       "0                        9.0                   10.0   \n",
       "\n",
       "   review_scores_communication  review_scores_location  review_scores_value  \\\n",
       "0                         10.0                    10.0                  9.0   \n",
       "\n",
       "  requires_license license  jurisdiction_names instant_bookable  \\\n",
       "0                t     NaN                 NaN                f   \n",
       "\n",
       "  is_business_travel_ready          cancellation_policy  \\\n",
       "0                        f  strict_14_with_grace_period   \n",
       "\n",
       "  require_guest_profile_picture require_guest_phone_verification  \\\n",
       "0                             f                                f   \n",
       "\n",
       "   calculated_host_listings_count  reviews_per_month  \n",
       "0                               4               3.76  "
      ]
     },
     "execution_count": 11,
     "metadata": {},
     "output_type": "execute_result"
    }
   ],
   "source": [
    "listings_summary.head(1)"
   ]
  },
  {
   "cell_type": "code",
   "execution_count": 12,
   "metadata": {
    "colab": {},
    "colab_type": "code",
    "id": "ND4mo69tI-2e"
   },
   "outputs": [],
   "source": [
    "# The first thing we will do is remove the object columns with high cardinality and features that are probably\n",
    "# redundant like 'city' since this is the Berlin AirBnB dataset - 'zipcode' may be useful but neighbourhood could\n",
    "# cover that.\n",
    "\n",
    "high_cardin = ['listing_url', 'name', 'summary', 'space', 'description', 'experiences_offered', 'neighborhood_overview',\n",
    "               'notes', 'transit', 'access', 'interaction', 'house_rules', 'thumbnail_url', 'medium_url',\n",
    "               'picture_url', 'xl_picture_url', 'host_url', 'host_name', 'host_about', 'host_thumbnail_url',\n",
    "               'host_picture_url', 'host_verifications', 'street', 'city', 'state', 'zipcode', 'market',\n",
    "               'smart_location', 'country_code', 'country', 'bed_type', 'amenities', 'weekly_price', 'monthly_price',\n",
    "               'has_availability', 'calendar_last_scraped', 'requires_license', 'license', 'is_business_travel_ready',\n",
    "               'require_guest_profile_picture', 'require_guest_phone_verification']"
   ]
  },
  {
   "cell_type": "code",
   "execution_count": 13,
   "metadata": {
    "colab": {},
    "colab_type": "code",
    "id": "CRV8gcp9I-2i"
   },
   "outputs": [],
   "source": [
    "listings_df = listings_summary.drop(columns=high_cardin)"
   ]
  },
  {
   "cell_type": "code",
   "execution_count": 14,
   "metadata": {
    "colab": {
     "base_uri": "https://localhost:8080/",
     "height": 985
    },
    "colab_type": "code",
    "id": "A_43oL4II-2m",
    "outputId": "7c549d7c-68be-4859-ad6c-573c3d50ea9d"
   },
   "outputs": [
    {
     "data": {
      "text/plain": [
       "id                                    0\n",
       "scrape_id                             0\n",
       "last_scraped                          0\n",
       "host_id                               0\n",
       "host_since                           26\n",
       "host_location                       116\n",
       "host_response_time                12894\n",
       "host_response_rate                12895\n",
       "host_acceptance_rate              22552\n",
       "host_is_superhost                    26\n",
       "host_neighbourhood                 5094\n",
       "host_listings_count                  26\n",
       "host_total_listings_count            26\n",
       "host_has_profile_pic                 26\n",
       "host_identity_verified               26\n",
       "neighbourhood                      1131\n",
       "neighbourhood_cleansed                0\n",
       "neighbourhood_group_cleansed          0\n",
       "latitude                              0\n",
       "longitude                             0\n",
       "is_location_exact                     0\n",
       "property_type                         0\n",
       "room_type                             0\n",
       "accommodates                          0\n",
       "bathrooms                            32\n",
       "bedrooms                             18\n",
       "beds                                 40\n",
       "square_feet                       22106\n",
       "price                                 0\n",
       "security_deposit                   9361\n",
       "cleaning_fee                       7146\n",
       "guests_included                       0\n",
       "extra_people                          0\n",
       "minimum_nights                        0\n",
       "maximum_nights                        0\n",
       "calendar_updated                      0\n",
       "availability_30                       0\n",
       "availability_60                       0\n",
       "availability_90                       0\n",
       "availability_365                      0\n",
       "number_of_reviews                     0\n",
       "first_review                       3914\n",
       "last_review                        3908\n",
       "review_scores_rating               4389\n",
       "review_scores_accuracy             4414\n",
       "review_scores_cleanliness          4411\n",
       "review_scores_checkin              4432\n",
       "review_scores_communication        4418\n",
       "review_scores_location             4431\n",
       "review_scores_value                4435\n",
       "jurisdiction_names                22552\n",
       "instant_bookable                      0\n",
       "cancellation_policy                   0\n",
       "calculated_host_listings_count        0\n",
       "reviews_per_month                  3914\n",
       "dtype: int64"
      ]
     },
     "execution_count": 14,
     "metadata": {},
     "output_type": "execute_result"
    }
   ],
   "source": [
    "listings_df.isna().sum()"
   ]
  },
  {
   "cell_type": "code",
   "execution_count": 15,
   "metadata": {
    "colab": {},
    "colab_type": "code",
    "id": "Lw0Hx1ZKI-2p"
   },
   "outputs": [],
   "source": [
    "# We will also remove columns that have many NaN values\n",
    "\n",
    "high_na = ['host_response_time', 'host_response_rate', 'host_acceptance_rate', 'square_feet', 'jurisdiction_names']\n",
    "\n",
    "Berlin_airbnb = listings_df.drop(columns=high_na)"
   ]
  },
  {
   "cell_type": "code",
   "execution_count": 16,
   "metadata": {
    "colab": {
     "base_uri": "https://localhost:8080/",
     "height": 898
    },
    "colab_type": "code",
    "id": "sXWJOOiDI-2u",
    "outputId": "687d4f42-6095-423a-8f7a-4843456571b0"
   },
   "outputs": [
    {
     "data": {
      "text/plain": [
       "id                                  int64\n",
       "scrape_id                           int64\n",
       "last_scraped                       object\n",
       "host_id                             int64\n",
       "host_since                         object\n",
       "host_location                      object\n",
       "host_is_superhost                  object\n",
       "host_neighbourhood                 object\n",
       "host_listings_count               float64\n",
       "host_total_listings_count         float64\n",
       "host_has_profile_pic               object\n",
       "host_identity_verified             object\n",
       "neighbourhood                      object\n",
       "neighbourhood_cleansed             object\n",
       "neighbourhood_group_cleansed       object\n",
       "latitude                          float64\n",
       "longitude                         float64\n",
       "is_location_exact                  object\n",
       "property_type                      object\n",
       "room_type                          object\n",
       "accommodates                        int64\n",
       "bathrooms                         float64\n",
       "bedrooms                          float64\n",
       "beds                              float64\n",
       "price                              object\n",
       "security_deposit                   object\n",
       "cleaning_fee                       object\n",
       "guests_included                     int64\n",
       "extra_people                       object\n",
       "minimum_nights                      int64\n",
       "maximum_nights                      int64\n",
       "calendar_updated                   object\n",
       "availability_30                     int64\n",
       "availability_60                     int64\n",
       "availability_90                     int64\n",
       "availability_365                    int64\n",
       "number_of_reviews                   int64\n",
       "first_review                       object\n",
       "last_review                        object\n",
       "review_scores_rating              float64\n",
       "review_scores_accuracy            float64\n",
       "review_scores_cleanliness         float64\n",
       "review_scores_checkin             float64\n",
       "review_scores_communication       float64\n",
       "review_scores_location            float64\n",
       "review_scores_value               float64\n",
       "instant_bookable                   object\n",
       "cancellation_policy                object\n",
       "calculated_host_listings_count      int64\n",
       "reviews_per_month                 float64\n",
       "dtype: object"
      ]
     },
     "execution_count": 16,
     "metadata": {},
     "output_type": "execute_result"
    }
   ],
   "source": [
    "Berlin_airbnb.dtypes"
   ]
  },
  {
   "cell_type": "code",
   "execution_count": 17,
   "metadata": {
    "colab": {},
    "colab_type": "code",
    "id": "yBMvU63lI-2x"
   },
   "outputs": [],
   "source": [
    "# Next we will engineer some features based on the data"
   ]
  },
  {
   "cell_type": "code",
   "execution_count": 18,
   "metadata": {
    "colab": {},
    "colab_type": "code",
    "id": "8vhYXw5bI-21"
   },
   "outputs": [],
   "source": [
    "# Originally, the 'security_deposit' column would've been kept and replaced NaN values with the mean but,\n",
    "# Since there are many NaN values we will make a binary feature stating '1' if they require a security deposit\n",
    "# and '0' if the do not require one.\n",
    "\n",
    "\n",
    "# TODO: drop Berlin_airbnb['security_deposit']\n",
    "has_security_dep = []\n",
    "for i in Berlin_airbnb['security_deposit']:\n",
    "    if i==np.NaN:\n",
    "        has_security_dep.append(0)\n",
    "    else:\n",
    "        has_security_dep.append(1)\n",
    "Berlin_airbnb['require_security_deposit'] = np.array(has_security_dep).astype(int)"
   ]
  },
  {
   "cell_type": "code",
   "execution_count": 19,
   "metadata": {
    "colab": {},
    "colab_type": "code",
    "id": "xrIaWPgGI-24"
   },
   "outputs": [],
   "source": [
    "# We will do the same with cleaning fee and call it 'has_cleaning_service'...\n",
    "\n",
    "# TODO: drop Berlin_airbnb['cleaning_fee']\n",
    "has_cleaning = []\n",
    "for i in Berlin_airbnb['cleaning_fee']:\n",
    "    if i==np.NaN:\n",
    "        has_cleaning.append(0)\n",
    "    else:\n",
    "        has_cleaning.append(1)\n",
    "Berlin_airbnb['has_cleaning_service'] = np.array(has_cleaning).astype(int)"
   ]
  },
  {
   "cell_type": "code",
   "execution_count": 20,
   "metadata": {
    "colab": {},
    "colab_type": "code",
    "id": "SgHBQcbBI-27"
   },
   "outputs": [],
   "source": [
    "# Possible columns to impute or use for feature engineering\n",
    "\n",
    "# review_scores_rating - mode = 100.00 (46 unique values between 50.00 and 100.00)\n",
    "# review_scores_accuracy - mode = 10.0 (more than 50% of the data)\n",
    "# review_scores_cleanliness - mode = 10.0\n",
    "# review_scores_checkin - mode = 10.0 (more than 50% of the data)\n",
    "# review_scores_communication - mode = 10.0 (more than 50% of the data)\n",
    "# review_scores_location - mode = 10.0\n",
    "# review_scores_value - mode = 10.0"
   ]
  },
  {
   "cell_type": "code",
   "execution_count": 21,
   "metadata": {
    "colab": {
     "base_uri": "https://localhost:8080/",
     "height": 35
    },
    "colab_type": "code",
    "id": "K-8mgCyoI-2-",
    "outputId": "a29222f7-c272-45f6-fc9d-1b1a725072ee"
   },
   "outputs": [
    {
     "name": "stdout",
     "output_type": "stream",
     "text": [
      "1300\n"
     ]
    }
   ],
   "source": [
    "# Next, we will get rid of the dollar signs and any commas that may be contained in the 'price'\n",
    "# and 'extra_people' column by making a function that will strip the dollar sign ('$') from the\n",
    "# array, remove the redundant '.00', and then remove commas for amounts 1000 or larger\n",
    "\n",
    "def dollar_to_int(row):\n",
    "    return row.strip('$')[:-3]\n",
    "def no_comma(row):\n",
    "    return row.replace(',','')\n",
    "\n",
    "# To show it works...\n",
    "\n",
    "amount = dollar_to_int('$1,300.00')\n",
    "print(no_comma(amount))"
   ]
  },
  {
   "cell_type": "code",
   "execution_count": 22,
   "metadata": {
    "colab": {},
    "colab_type": "code",
    "id": "twMMCI5_I-3A"
   },
   "outputs": [],
   "source": [
    "# Applying them to the dataset...\n",
    "\n",
    "Berlin_airbnb['price'] = Berlin_airbnb['price'].apply(dollar_to_int).apply(no_comma).astype(int)\n",
    "Berlin_airbnb['extra_people'] = Berlin_airbnb['extra_people'].apply(dollar_to_int).apply(no_comma).astype(int)"
   ]
  },
  {
   "cell_type": "code",
   "execution_count": 23,
   "metadata": {
    "colab": {
     "base_uri": "https://localhost:8080/",
     "height": 35
    },
    "colab_type": "code",
    "id": "0ZIyggKuI-3D",
    "outputId": "b6886e6a-9610-4c50-8fcf-60281dfcf45f"
   },
   "outputs": [
    {
     "data": {
      "text/plain": [
       "(22552, 52)"
      ]
     },
     "execution_count": 23,
     "metadata": {},
     "output_type": "execute_result"
    }
   ],
   "source": [
    "Berlin_airbnb.shape"
   ]
  },
  {
   "cell_type": "code",
   "execution_count": 24,
   "metadata": {
    "colab": {},
    "colab_type": "code",
    "id": "PM7Wcuo8I-3H"
   },
   "outputs": [],
   "source": [
    "Berlin_airbnb = Berlin_airbnb.drop(columns=['security_deposit', 'cleaning_fee'])"
   ]
  },
  {
   "cell_type": "code",
   "execution_count": 25,
   "metadata": {
    "colab": {},
    "colab_type": "code",
    "id": "vZKt5jcKI-3L"
   },
   "outputs": [],
   "source": [
    "# 'property_type', 'room_type', 'accommodates','bathrooms', 'bedrooms', 'beds', 'bed_type','price','number_of_reviews',('review_scores_value '),'instant_bookable','cancellation_policy','neighbourhood','host_identity_verified'"
   ]
  },
  {
   "cell_type": "code",
   "execution_count": 26,
   "metadata": {
    "colab": {},
    "colab_type": "code",
    "id": "cOLXPpfvI-3P"
   },
   "outputs": [],
   "source": [
    "# Possibly useful: - Predicting 'PRICE'\n",
    "# 1. neighbourhood\n",
    "# 2. property type\n",
    "# 3. room type\n",
    "# 4. accommodates\n",
    "# 5. bathrooms\n",
    "# 6. bedrooms\n",
    "# 7. beds\n",
    "# 8. reviews_scores_value\n",
    "# 9. instant_bookable\n",
    "# 10. cancellation_policy\n",
    "# 10. has_cleaning_service\n",
    "\n",
    "### Columns we may go with\n",
    "# 'property_type', 'room_type', 'accommodates','bathrooms', 'bedrooms', 'beds', 'bed_type','price','number_of_reviews',('review_scores_value '),'instant_bookable','cancellation_policy','neighbourhood','host_identity_verified'"
   ]
  },
  {
   "cell_type": "code",
   "execution_count": 27,
   "metadata": {
    "colab": {
     "base_uri": "https://localhost:8080/",
     "height": 305
    },
    "colab_type": "code",
    "id": "SLc7ZmZVI-3S",
    "outputId": "4698cb96-51fe-4a23-de6f-14a6d7080d75"
   },
   "outputs": [
    {
     "data": {
      "text/html": [
       "<div>\n",
       "<style scoped>\n",
       "    .dataframe tbody tr th:only-of-type {\n",
       "        vertical-align: middle;\n",
       "    }\n",
       "\n",
       "    .dataframe tbody tr th {\n",
       "        vertical-align: top;\n",
       "    }\n",
       "\n",
       "    .dataframe thead th {\n",
       "        text-align: right;\n",
       "    }\n",
       "</style>\n",
       "<table border=\"1\" class=\"dataframe\">\n",
       "  <thead>\n",
       "    <tr style=\"text-align: right;\">\n",
       "      <th></th>\n",
       "      <th>property_type</th>\n",
       "      <th>room_type</th>\n",
       "      <th>accommodates</th>\n",
       "      <th>bathrooms</th>\n",
       "      <th>bedrooms</th>\n",
       "      <th>beds</th>\n",
       "      <th>price</th>\n",
       "      <th>number_of_reviews</th>\n",
       "      <th>review_scores_value</th>\n",
       "      <th>instant_bookable</th>\n",
       "      <th>cancellation_policy</th>\n",
       "      <th>neighbourhood</th>\n",
       "      <th>host_identity_verified</th>\n",
       "    </tr>\n",
       "  </thead>\n",
       "  <tbody>\n",
       "    <tr>\n",
       "      <th>0</th>\n",
       "      <td>Guesthouse</td>\n",
       "      <td>Entire home/apt</td>\n",
       "      <td>3</td>\n",
       "      <td>1.0</td>\n",
       "      <td>1.0</td>\n",
       "      <td>2.0</td>\n",
       "      <td>60</td>\n",
       "      <td>118</td>\n",
       "      <td>9.0</td>\n",
       "      <td>f</td>\n",
       "      <td>strict_14_with_grace_period</td>\n",
       "      <td>Mitte</td>\n",
       "      <td>t</td>\n",
       "    </tr>\n",
       "    <tr>\n",
       "      <th>1</th>\n",
       "      <td>Apartment</td>\n",
       "      <td>Private room</td>\n",
       "      <td>2</td>\n",
       "      <td>1.0</td>\n",
       "      <td>1.0</td>\n",
       "      <td>1.0</td>\n",
       "      <td>17</td>\n",
       "      <td>6</td>\n",
       "      <td>10.0</td>\n",
       "      <td>f</td>\n",
       "      <td>flexible</td>\n",
       "      <td>NaN</td>\n",
       "      <td>t</td>\n",
       "    </tr>\n",
       "    <tr>\n",
       "      <th>2</th>\n",
       "      <td>Apartment</td>\n",
       "      <td>Entire home/apt</td>\n",
       "      <td>4</td>\n",
       "      <td>1.0</td>\n",
       "      <td>1.0</td>\n",
       "      <td>2.0</td>\n",
       "      <td>90</td>\n",
       "      <td>143</td>\n",
       "      <td>9.0</td>\n",
       "      <td>t</td>\n",
       "      <td>strict_14_with_grace_period</td>\n",
       "      <td>Prenzlauer Berg</td>\n",
       "      <td>t</td>\n",
       "    </tr>\n",
       "    <tr>\n",
       "      <th>3</th>\n",
       "      <td>Apartment</td>\n",
       "      <td>Private room</td>\n",
       "      <td>2</td>\n",
       "      <td>1.0</td>\n",
       "      <td>1.0</td>\n",
       "      <td>1.0</td>\n",
       "      <td>26</td>\n",
       "      <td>25</td>\n",
       "      <td>9.0</td>\n",
       "      <td>f</td>\n",
       "      <td>strict_14_with_grace_period</td>\n",
       "      <td>Schöneberg</td>\n",
       "      <td>t</td>\n",
       "    </tr>\n",
       "    <tr>\n",
       "      <th>4</th>\n",
       "      <td>Apartment</td>\n",
       "      <td>Private room</td>\n",
       "      <td>2</td>\n",
       "      <td>1.0</td>\n",
       "      <td>1.0</td>\n",
       "      <td>2.0</td>\n",
       "      <td>42</td>\n",
       "      <td>197</td>\n",
       "      <td>9.0</td>\n",
       "      <td>f</td>\n",
       "      <td>moderate</td>\n",
       "      <td>Prenzlauer Berg</td>\n",
       "      <td>t</td>\n",
       "    </tr>\n",
       "  </tbody>\n",
       "</table>\n",
       "</div>"
      ],
      "text/plain": [
       "  property_type        room_type  accommodates  bathrooms  bedrooms  beds  \\\n",
       "0    Guesthouse  Entire home/apt             3        1.0       1.0   2.0   \n",
       "1     Apartment     Private room             2        1.0       1.0   1.0   \n",
       "2     Apartment  Entire home/apt             4        1.0       1.0   2.0   \n",
       "3     Apartment     Private room             2        1.0       1.0   1.0   \n",
       "4     Apartment     Private room             2        1.0       1.0   2.0   \n",
       "\n",
       "   price  number_of_reviews  review_scores_value instant_bookable  \\\n",
       "0     60                118                  9.0                f   \n",
       "1     17                  6                 10.0                f   \n",
       "2     90                143                  9.0                t   \n",
       "3     26                 25                  9.0                f   \n",
       "4     42                197                  9.0                f   \n",
       "\n",
       "           cancellation_policy    neighbourhood host_identity_verified  \n",
       "0  strict_14_with_grace_period            Mitte                      t  \n",
       "1                     flexible              NaN                      t  \n",
       "2  strict_14_with_grace_period  Prenzlauer Berg                      t  \n",
       "3  strict_14_with_grace_period       Schöneberg                      t  \n",
       "4                     moderate  Prenzlauer Berg                      t  "
      ]
     },
     "execution_count": 27,
     "metadata": {},
     "output_type": "execute_result"
    }
   ],
   "source": [
    "Berlin_subset = Berlin_airbnb[['property_type', 'room_type', 'accommodates', 'bathrooms', 'bedrooms', 'beds',\n",
    "                               'price', 'number_of_reviews', 'review_scores_value', 'instant_bookable',\n",
    "                               'cancellation_policy', 'neighbourhood', 'host_identity_verified']]\n",
    "Berlin_subset.head()"
   ]
  },
  {
   "cell_type": "code",
   "execution_count": 28,
   "metadata": {
    "colab": {},
    "colab_type": "code",
    "id": "r95hu8ugI-3V"
   },
   "outputs": [],
   "source": [
    "###### We need to include why we are using these columns!! ######\n",
    "\n",
    "# i.e. Why we chose to condense 'accommodates'"
   ]
  },
  {
   "cell_type": "code",
   "execution_count": 29,
   "metadata": {
    "colab": {
     "base_uri": "https://localhost:8080/",
     "height": 259
    },
    "colab_type": "code",
    "id": "HtGGD_-NI-3Z",
    "outputId": "0a134e6e-0edf-425d-8308-d438a81426ff"
   },
   "outputs": [
    {
     "data": {
      "text/plain": [
       "property_type              object\n",
       "room_type                  object\n",
       "accommodates                int64\n",
       "bathrooms                 float64\n",
       "bedrooms                  float64\n",
       "beds                      float64\n",
       "price                       int32\n",
       "number_of_reviews           int64\n",
       "review_scores_value       float64\n",
       "instant_bookable           object\n",
       "cancellation_policy        object\n",
       "neighbourhood              object\n",
       "host_identity_verified     object\n",
       "dtype: object"
      ]
     },
     "execution_count": 29,
     "metadata": {},
     "output_type": "execute_result"
    }
   ],
   "source": [
    "Berlin_subset.dtypes"
   ]
  },
  {
   "cell_type": "code",
   "execution_count": 30,
   "metadata": {
    "colab": {
     "base_uri": "https://localhost:8080/",
     "height": 311
    },
    "colab_type": "code",
    "id": "d2INBQWzI-3b",
    "outputId": "11dedadc-620b-4195-f958-d92e7bb47df6"
   },
   "outputs": [
    {
     "data": {
      "text/plain": [
       "2     12228\n",
       "4      3216\n",
       "1      2734\n",
       "3      2487\n",
       "6       733\n",
       "5       701\n",
       "8       151\n",
       "7       131\n",
       "10       57\n",
       "9        36\n",
       "12       24\n",
       "16       20\n",
       "11       15\n",
       "14       11\n",
       "15        6\n",
       "13        2\n",
       "Name: accommodates, dtype: int64"
      ]
     },
     "execution_count": 30,
     "metadata": {},
     "output_type": "execute_result"
    }
   ],
   "source": [
    "Berlin_subset['accommodates'].value_counts()"
   ]
  },
  {
   "cell_type": "code",
   "execution_count": 31,
   "metadata": {
    "colab": {
     "base_uri": "https://localhost:8080/",
     "height": 35
    },
    "colab_type": "code",
    "id": "wD4od-onI-3e",
    "outputId": "5beb4bf0-042c-4eb1-d7ae-caabcd224c9c"
   },
   "outputs": [
    {
     "data": {
      "text/plain": [
       "{'1', '2', '3', '4', '5', '6', '7+'}"
      ]
     },
     "execution_count": 31,
     "metadata": {},
     "output_type": "execute_result"
    }
   ],
   "source": [
    "# Minimizing the values for the accommodates column\n",
    "# We will make them objects from 1-6 and then 7+\n",
    "\n",
    "accommodate = []\n",
    "for int in Berlin_subset['accommodates']:\n",
    "    if int==1:\n",
    "        accommodate.append('1')\n",
    "    elif int==2:\n",
    "        accommodate.append('2')\n",
    "    elif int==3:\n",
    "        accommodate.append('3')\n",
    "    elif int==4:\n",
    "        accommodate.append('4')\n",
    "    elif int==5:\n",
    "        accommodate.append('5')\n",
    "    elif int==6:\n",
    "        accommodate.append('6')\n",
    "    elif int>=7:\n",
    "        accommodate.append('7+')\n",
    "    else:\n",
    "        accommodate.append('')\n",
    "set(accommodate)"
   ]
  },
  {
   "cell_type": "code",
   "execution_count": 32,
   "metadata": {
    "colab": {
     "base_uri": "https://localhost:8080/",
     "height": 121
    },
    "colab_type": "code",
    "id": "RtHBEzDbI-3l",
    "outputId": "4e392a49-f84a-4ac6-ee5c-fb0ea38dcb94"
   },
   "outputs": [],
   "source": [
    "Berlin_subset['can_accommodate'] = np.array(accommodate)"
   ]
  },
  {
   "cell_type": "code",
   "execution_count": 33,
   "metadata": {
    "colab": {
     "base_uri": "https://localhost:8080/",
     "height": 35
    },
    "colab_type": "code",
    "id": "mq5Np0tNI-3o",
    "outputId": "58df0504-c053-4f72-f4e3-5fc59ca1d8bb"
   },
   "outputs": [
    {
     "data": {
      "text/plain": [
       "{'1', '2+'}"
      ]
     },
     "execution_count": 33,
     "metadata": {},
     "output_type": "execute_result"
    }
   ],
   "source": [
    "bedrooms = []\n",
    "for bed in Berlin_subset['bedrooms']:\n",
    "    if bed==1.0:\n",
    "        bedrooms.append('1')\n",
    "    else:\n",
    "        bedrooms.append('2+')\n",
    "set(bedrooms)"
   ]
  },
  {
   "cell_type": "code",
   "execution_count": 34,
   "metadata": {
    "colab": {
     "base_uri": "https://localhost:8080/",
     "height": 121
    },
    "colab_type": "code",
    "id": "Xty0gVezI-3r",
    "outputId": "4d75d6a5-a2bb-479a-fd80-18181b2c22a3"
   },
   "outputs": [],
   "source": [
    "Berlin_subset['n_bedrooms'] = np.array(bedrooms)"
   ]
  },
  {
   "cell_type": "code",
   "execution_count": 35,
   "metadata": {
    "colab": {
     "base_uri": "https://localhost:8080/",
     "height": 35
    },
    "colab_type": "code",
    "id": "WVMEGMfrI-3u",
    "outputId": "e53460d0-6a3f-4ebf-f00d-87d3e87d6734"
   },
   "outputs": [
    {
     "data": {
      "text/plain": [
       "{'1', '2+'}"
      ]
     },
     "execution_count": 35,
     "metadata": {},
     "output_type": "execute_result"
    }
   ],
   "source": [
    "bathrooms = []\n",
    "for bath in Berlin_subset['bathrooms']:\n",
    "    if bath==1.0:\n",
    "        bathrooms.append('1')\n",
    "    else:\n",
    "        bathrooms.append('2+')\n",
    "set(bathrooms)"
   ]
  },
  {
   "cell_type": "code",
   "execution_count": 36,
   "metadata": {
    "colab": {
     "base_uri": "https://localhost:8080/",
     "height": 121
    },
    "colab_type": "code",
    "id": "eCdAtQHfI-3x",
    "outputId": "844d2b82-3265-4140-d19b-1b79262ae1bb"
   },
   "outputs": [],
   "source": [
    "Berlin_subset['n_bathrooms'] = np.array(bathrooms)"
   ]
  },
  {
   "cell_type": "code",
   "execution_count": 37,
   "metadata": {
    "colab": {
     "base_uri": "https://localhost:8080/",
     "height": 35
    },
    "colab_type": "code",
    "id": "9_LR1D2JI-30",
    "outputId": "1c9b338e-b3a9-465f-a6c5-506daf0721ab"
   },
   "outputs": [
    {
     "data": {
      "text/plain": [
       "{'1', '2+'}"
      ]
     },
     "execution_count": 37,
     "metadata": {},
     "output_type": "execute_result"
    }
   ],
   "source": [
    "beds = []\n",
    "for bed in Berlin_subset['beds']:\n",
    "    if bed==1.0:\n",
    "        beds.append('1')\n",
    "    else:\n",
    "        beds.append('2+')\n",
    "set(beds)"
   ]
  },
  {
   "cell_type": "code",
   "execution_count": 38,
   "metadata": {
    "colab": {
     "base_uri": "https://localhost:8080/",
     "height": 121
    },
    "colab_type": "code",
    "id": "D-BZUxb4I-33",
    "outputId": "1617556e-751c-4ad4-cb21-fa1ead853026"
   },
   "outputs": [],
   "source": [
    "Berlin_subset['n_beds'] = np.array(beds)"
   ]
  },
  {
   "cell_type": "code",
   "execution_count": 39,
   "metadata": {
    "colab": {},
    "colab_type": "code",
    "id": "ZO8GdBJTI-36"
   },
   "outputs": [],
   "source": [
    "def to_nbool(array):\n",
    "    for i in array:\n",
    "        if i=='t':\n",
    "            return 1\n",
    "        else:\n",
    "            return 0"
   ]
  },
  {
   "cell_type": "code",
   "execution_count": 40,
   "metadata": {
    "colab": {
     "base_uri": "https://localhost:8080/",
     "height": 121
    },
    "colab_type": "code",
    "id": "FEe6nJFtI-38",
    "outputId": "5391ca52-f8bc-4ddb-d8f9-e7e714d2a3f6"
   },
   "outputs": [],
   "source": [
    "Berlin_subset['host_identity_verified'] = Berlin_subset['host_identity_verified'].dropna().apply(to_nbool)"
   ]
  },
  {
   "cell_type": "code",
   "execution_count": 41,
   "metadata": {
    "colab": {
     "base_uri": "https://localhost:8080/",
     "height": 121
    },
    "colab_type": "code",
    "id": "jeZHJ2arI-3_",
    "outputId": "bf4de6dd-c7f5-4cef-a8a3-d3b7170b4707"
   },
   "outputs": [],
   "source": [
    "Berlin_subset['instant_bookable'] = Berlin_subset['instant_bookable'].dropna().apply(to_nbool)"
   ]
  },
  {
   "cell_type": "code",
   "execution_count": 42,
   "metadata": {
    "colab": {
     "base_uri": "https://localhost:8080/",
     "height": 121
    },
    "colab_type": "code",
    "id": "l-Kcuj0EI-4C",
    "outputId": "f565019a-8369-4811-84d3-9d0633e5d965"
   },
   "outputs": [],
   "source": [
    "Berlin_subset['review_scores_value'] = Berlin_subset['review_scores_value'].replace(np.NaN, 0)"
   ]
  },
  {
   "cell_type": "code",
   "execution_count": 43,
   "metadata": {
    "colab": {
     "base_uri": "https://localhost:8080/",
     "height": 35
    },
    "colab_type": "code",
    "id": "I3Kp1--AI-4F",
    "outputId": "c2ab6763-a175-4c11-dd61-961e5d6441e6"
   },
   "outputs": [
    {
     "data": {
      "text/plain": [
       "{0.0, 7.0, 8.0, 9.0, 10.0}"
      ]
     },
     "execution_count": 43,
     "metadata": {},
     "output_type": "execute_result"
    }
   ],
   "source": [
    "scores = []\n",
    "for rating in Berlin_subset['review_scores_value']:\n",
    "    if rating>=7.0:\n",
    "        scores.append(rating)\n",
    "    else:\n",
    "        scores.append(0.0)\n",
    "set(scores)"
   ]
  },
  {
   "cell_type": "code",
   "execution_count": 44,
   "metadata": {
    "colab": {
     "base_uri": "https://localhost:8080/",
     "height": 121
    },
    "colab_type": "code",
    "id": "pIkZmXVdI-4I",
    "outputId": "8c07b8b9-5901-4d64-89d9-0617000856b4"
   },
   "outputs": [],
   "source": [
    "Berlin_subset['review_score'] = scores"
   ]
  },
  {
   "cell_type": "code",
   "execution_count": 45,
   "metadata": {
    "colab": {},
    "colab_type": "code",
    "id": "Z1ODuJ56I-4L"
   },
   "outputs": [],
   "source": [
    "Berlin = Berlin_subset.drop(columns=['accommodates', 'bathrooms', 'bedrooms',\n",
    "                                    'beds', 'review_scores_value'])"
   ]
  },
  {
   "cell_type": "code",
   "execution_count": 46,
   "metadata": {
    "colab": {
     "base_uri": "https://localhost:8080/",
     "height": 35
    },
    "colab_type": "code",
    "id": "6tMFTWcMI-4N",
    "outputId": "beb3610d-aa4c-49a9-a839-bd55c6835f19"
   },
   "outputs": [
    {
     "data": {
      "text/plain": [
       "(22552, 13)"
      ]
     },
     "execution_count": 46,
     "metadata": {},
     "output_type": "execute_result"
    }
   ],
   "source": [
    "Berlin.shape"
   ]
  },
  {
   "cell_type": "code",
   "execution_count": 47,
   "metadata": {
    "colab": {
     "base_uri": "https://localhost:8080/",
     "height": 305
    },
    "colab_type": "code",
    "id": "vYoWIuPfI-4R",
    "outputId": "c2cb608d-779e-43e2-92fc-fbe641118fca"
   },
   "outputs": [
    {
     "data": {
      "text/html": [
       "<div>\n",
       "<style scoped>\n",
       "    .dataframe tbody tr th:only-of-type {\n",
       "        vertical-align: middle;\n",
       "    }\n",
       "\n",
       "    .dataframe tbody tr th {\n",
       "        vertical-align: top;\n",
       "    }\n",
       "\n",
       "    .dataframe thead th {\n",
       "        text-align: right;\n",
       "    }\n",
       "</style>\n",
       "<table border=\"1\" class=\"dataframe\">\n",
       "  <thead>\n",
       "    <tr style=\"text-align: right;\">\n",
       "      <th></th>\n",
       "      <th>property_type</th>\n",
       "      <th>room_type</th>\n",
       "      <th>price</th>\n",
       "      <th>number_of_reviews</th>\n",
       "      <th>instant_bookable</th>\n",
       "      <th>cancellation_policy</th>\n",
       "      <th>neighbourhood</th>\n",
       "      <th>host_identity_verified</th>\n",
       "      <th>can_accommodate</th>\n",
       "      <th>n_bedrooms</th>\n",
       "      <th>n_bathrooms</th>\n",
       "      <th>n_beds</th>\n",
       "      <th>review_score</th>\n",
       "    </tr>\n",
       "  </thead>\n",
       "  <tbody>\n",
       "    <tr>\n",
       "      <th>0</th>\n",
       "      <td>Guesthouse</td>\n",
       "      <td>Entire home/apt</td>\n",
       "      <td>60</td>\n",
       "      <td>118</td>\n",
       "      <td>0</td>\n",
       "      <td>strict_14_with_grace_period</td>\n",
       "      <td>Mitte</td>\n",
       "      <td>1.0</td>\n",
       "      <td>3</td>\n",
       "      <td>1</td>\n",
       "      <td>1</td>\n",
       "      <td>2+</td>\n",
       "      <td>9.0</td>\n",
       "    </tr>\n",
       "    <tr>\n",
       "      <th>1</th>\n",
       "      <td>Apartment</td>\n",
       "      <td>Private room</td>\n",
       "      <td>17</td>\n",
       "      <td>6</td>\n",
       "      <td>0</td>\n",
       "      <td>flexible</td>\n",
       "      <td>NaN</td>\n",
       "      <td>1.0</td>\n",
       "      <td>2</td>\n",
       "      <td>1</td>\n",
       "      <td>1</td>\n",
       "      <td>1</td>\n",
       "      <td>10.0</td>\n",
       "    </tr>\n",
       "    <tr>\n",
       "      <th>2</th>\n",
       "      <td>Apartment</td>\n",
       "      <td>Entire home/apt</td>\n",
       "      <td>90</td>\n",
       "      <td>143</td>\n",
       "      <td>1</td>\n",
       "      <td>strict_14_with_grace_period</td>\n",
       "      <td>Prenzlauer Berg</td>\n",
       "      <td>1.0</td>\n",
       "      <td>4</td>\n",
       "      <td>1</td>\n",
       "      <td>1</td>\n",
       "      <td>2+</td>\n",
       "      <td>9.0</td>\n",
       "    </tr>\n",
       "    <tr>\n",
       "      <th>3</th>\n",
       "      <td>Apartment</td>\n",
       "      <td>Private room</td>\n",
       "      <td>26</td>\n",
       "      <td>25</td>\n",
       "      <td>0</td>\n",
       "      <td>strict_14_with_grace_period</td>\n",
       "      <td>Schöneberg</td>\n",
       "      <td>1.0</td>\n",
       "      <td>2</td>\n",
       "      <td>1</td>\n",
       "      <td>1</td>\n",
       "      <td>1</td>\n",
       "      <td>9.0</td>\n",
       "    </tr>\n",
       "    <tr>\n",
       "      <th>4</th>\n",
       "      <td>Apartment</td>\n",
       "      <td>Private room</td>\n",
       "      <td>42</td>\n",
       "      <td>197</td>\n",
       "      <td>0</td>\n",
       "      <td>moderate</td>\n",
       "      <td>Prenzlauer Berg</td>\n",
       "      <td>1.0</td>\n",
       "      <td>2</td>\n",
       "      <td>1</td>\n",
       "      <td>1</td>\n",
       "      <td>2+</td>\n",
       "      <td>9.0</td>\n",
       "    </tr>\n",
       "  </tbody>\n",
       "</table>\n",
       "</div>"
      ],
      "text/plain": [
       "  property_type        room_type  price  number_of_reviews  instant_bookable  \\\n",
       "0    Guesthouse  Entire home/apt     60                118                 0   \n",
       "1     Apartment     Private room     17                  6                 0   \n",
       "2     Apartment  Entire home/apt     90                143                 1   \n",
       "3     Apartment     Private room     26                 25                 0   \n",
       "4     Apartment     Private room     42                197                 0   \n",
       "\n",
       "           cancellation_policy    neighbourhood  host_identity_verified  \\\n",
       "0  strict_14_with_grace_period            Mitte                     1.0   \n",
       "1                     flexible              NaN                     1.0   \n",
       "2  strict_14_with_grace_period  Prenzlauer Berg                     1.0   \n",
       "3  strict_14_with_grace_period       Schöneberg                     1.0   \n",
       "4                     moderate  Prenzlauer Berg                     1.0   \n",
       "\n",
       "  can_accommodate n_bedrooms n_bathrooms n_beds  review_score  \n",
       "0               3          1           1     2+           9.0  \n",
       "1               2          1           1      1          10.0  \n",
       "2               4          1           1     2+           9.0  \n",
       "3               2          1           1      1           9.0  \n",
       "4               2          1           1     2+           9.0  "
      ]
     },
     "execution_count": 47,
     "metadata": {},
     "output_type": "execute_result"
    }
   ],
   "source": [
    "Berlin.head()"
   ]
  },
  {
   "cell_type": "code",
   "execution_count": 48,
   "metadata": {},
   "outputs": [],
   "source": [
    "# Instead of reassigning these values to 'cancellation_policy' we will keep the original just in case we need it back\n",
    "\n",
    "Berlin['cancel_policy'] = Berlin['cancellation_policy'].replace(('super_strict_30', 'super_strict_60', 'strict_14_with_grace_period'),'strict')"
   ]
  },
  {
   "cell_type": "code",
   "execution_count": 49,
   "metadata": {
    "colab": {
     "base_uri": "https://localhost:8080/",
     "height": 35
    },
    "colab_type": "code",
    "id": "c3g74IFVa0G7",
    "outputId": "8f1733b7-44d7-4b7a-c418-f944f48c4c60"
   },
   "outputs": [
    {
     "data": {
      "text/plain": [
       "14"
      ]
     },
     "execution_count": 49,
     "metadata": {},
     "output_type": "execute_result"
    }
   ],
   "source": [
    "len(Berlin.columns)"
   ]
  },
  {
   "cell_type": "code",
   "execution_count": 50,
   "metadata": {
    "colab": {
     "base_uri": "https://localhost:8080/",
     "height": 259
    },
    "colab_type": "code",
    "id": "ChDrWEX_ctUL",
    "outputId": "4bff0930-62e4-4721-d6a8-fb70aab0271f"
   },
   "outputs": [
    {
     "data": {
      "text/plain": [
       "property_type                0\n",
       "room_type                    0\n",
       "price                        0\n",
       "number_of_reviews            0\n",
       "instant_bookable             0\n",
       "cancellation_policy          0\n",
       "neighbourhood             1131\n",
       "host_identity_verified      26\n",
       "can_accommodate              0\n",
       "n_bedrooms                   0\n",
       "n_bathrooms                  0\n",
       "n_beds                       0\n",
       "review_score                 0\n",
       "cancel_policy                0\n",
       "dtype: int64"
      ]
     },
     "execution_count": 50,
     "metadata": {},
     "output_type": "execute_result"
    }
   ],
   "source": [
    "Berlin.isnull().sum()"
   ]
  },
  {
   "cell_type": "code",
   "execution_count": 53,
   "metadata": {},
   "outputs": [],
   "source": [
    "Berlin['neighbourhood'] = Berlin['neighbourhood'].replace(np.NaN, 'TODO')"
   ]
  },
  {
   "cell_type": "code",
   "execution_count": 55,
   "metadata": {},
   "outputs": [
    {
     "data": {
      "text/plain": [
       "Neukölln                3209\n",
       "Prenzlauer Berg         2768\n",
       "Kreuzberg               2661\n",
       "Friedrichshain          2526\n",
       "Mitte                   1943\n",
       "Wedding                 1417\n",
       "TODO                    1131\n",
       "Schöneberg              1065\n",
       "Moabit                   778\n",
       "Charlottenburg           767\n",
       "Wilmersdorf              483\n",
       "Pankow                   281\n",
       "Tempelhof                254\n",
       "Rummelsburg              248\n",
       "Weißensee                195\n",
       "Lichtenberg              174\n",
       "Tiergarten               163\n",
       "Alt-Treptow              156\n",
       "Steglitz                 153\n",
       "Reinickendorf            139\n",
       "Westend                  117\n",
       "Friedenau                 96\n",
       "Lichterfelde              92\n",
       "Baumschulenweg            82\n",
       "Zehlendorf                82\n",
       "Friedrichsfelde           68\n",
       "Britz                     61\n",
       "Halensee                  60\n",
       "Niederschönhausen         59\n",
       "Fennpfuhl                 56\n",
       "Potsdamer Platz           53\n",
       "Karlshorst                52\n",
       "Plänterwald               52\n",
       "Köpenick                  51\n",
       "Alt-Hohenschönhausen      50\n",
       "Hansaviertel              49\n",
       "Oberschöneweide           48\n",
       "Mariendorf                42\n",
       "Grunewald                 41\n",
       "Marzahn                   41\n",
       "Spandau                   33\n",
       "Rudow                     31\n",
       "Biesdorf                  31\n",
       "Schmargendorf             30\n",
       "Mahlsdorf                 30\n",
       "Tegel                     28\n",
       "Lichtenrade               28\n",
       "Rahnsdorf                 27\n",
       "Adlershof                 25\n",
       "Lankwitz                  24\n",
       "Wilhelmstadt              24\n",
       "Friedrichshagen           24\n",
       "Johannisthal              23\n",
       "Französisch Buchholz      22\n",
       "Altglienicke              20\n",
       "Hellersdorf               19\n",
       "Nikolassee                19\n",
       "Dahlem                    19\n",
       "Wittenau                  19\n",
       "Niederschöneweide         18\n",
       "Wannsee                   18\n",
       "Kaulsdorf                 17\n",
       "Schmöckwitz               17\n",
       "Kladow                    16\n",
       "Charlottenburg-Nord       14\n",
       "Buckow                    14\n",
       "Hakenfelde                13\n",
       "Frohnau                   12\n",
       "Gropiusstadt              12\n",
       "Karow                     12\n",
       "Grünau                    11\n",
       "Heiligensee               11\n",
       "Hermsdorf                 11\n",
       "Staaken                   10\n",
       "Buch                       9\n",
       "Märkisches Viertel         9\n",
       "Heinersdorf                8\n",
       "Marienfelde                8\n",
       "Siemensstadt               8\n",
       "Blankenburg                7\n",
       "Neu-Hohenschönhausen       7\n",
       "Bohnsdorf                  6\n",
       "Waidmannslust              6\n",
       "Falkenhagener Feld         6\n",
       "Gatow                      6\n",
       "Wilhelmsruh                6\n",
       "Müggelheim                 5\n",
       "Rosenthal                  5\n",
       "Konradshöhe                4\n",
       "Haselhorst                 3\n",
       "Falkenberg                 3\n",
       "Lübars                     1\n",
       "Name: neighbourhood, dtype: int64"
      ]
     },
     "execution_count": 55,
     "metadata": {},
     "output_type": "execute_result"
    }
   ],
   "source": [
    "Berlin['neighbourhood'].value_counts()"
   ]
  },
  {
   "cell_type": "code",
   "execution_count": 57,
   "metadata": {},
   "outputs": [
    {
     "data": {
      "text/plain": [
       "{'Charlottenburg-Wilmersdorf',\n",
       " 'Friedrichshain-Kreuzberg',\n",
       " 'Lichtenberg',\n",
       " 'Marzahn-Hellersdorf',\n",
       " 'Mitte',\n",
       " 'Neukölln',\n",
       " 'Pankow',\n",
       " 'Reinickendorf',\n",
       " 'Spandau',\n",
       " 'Steglitz-Zehlendorf',\n",
       " 'TODO',\n",
       " 'Tempelhof-Schöneberg',\n",
       " 'Treptow-Köpernick'}"
      ]
     },
     "execution_count": 57,
     "metadata": {},
     "output_type": "execute_result"
    }
   ],
   "source": [
    "# Something we could do is split these neighbourhoods into North, South, East, and West Berlin.\n",
    "# There are also 12 boroughs in Berlin that could be used.\n",
    "# All in the name of Data Science........\n",
    "\n",
    "boroughs = []\n",
    "for boro in Berlin['neighbourhood']:\n",
    "    \n",
    "    Charlot = ['Charlottenburg-Nord', 'Schmargendorf', 'Grunewald', 'Halensee', 'Westend', 'Wilmersdorf', 'Charlottenburg']\n",
    "    Fried = ['Kreuzberg', 'Friedrichshain']\n",
    "    Licht = ['Falkenberg', 'Neu-Hohenschönhausen', 'Alt-Hohenschönhausen', 'Karlshorst', 'Fennpfuhl', 'Friedrichsfelde',\n",
    "             'Lichtenberg', 'Rummelsburg']\n",
    "    Marzahn = ['Kaulsdorf', 'Hellersdorf', 'Mahlsdorf', 'Biesdorf', 'Marzahn']\n",
    "    Mitte = ['Hansaviertel', 'Potsdamer Platz', 'Tiergarten', 'Moabit', 'Wedding', 'Mitte']\n",
    "    Neukolln = ['Gropuisstadt', 'Buckow', 'Rudow', 'Britz', 'Neukölln']\n",
    "    Pankow = ['Rosenthal', 'Wilhelmsruh', 'Blankenburg', 'Heinersdorf', 'Buch', 'Karow', 'Französisch Buchholz',\n",
    "              'Niederschönhausen', 'Weißensee', 'Pankow', 'Prenzlauer Berg']\n",
    "    Reinick = ['Lübars', 'Konradshöhe', 'Waidmannslust', 'Märkisches Viertel', 'Heiligesee', 'Hermsdorf', 'Frohnau',\n",
    "               'Wittenau', 'Tegel', 'Reinickendorf']\n",
    "    Spandau = ['Haselhorst', 'Gatow', 'Falkenhagener', 'Siemensstadt', 'Staaken', 'Hakenfelde', 'Kladow',\n",
    "               'Wilhelmstadt', 'Spandau']\n",
    "    Steglitz = ['Wansee', 'Dahlem', 'Nikolassee', 'Lankwitz', 'Zehlendorf', 'Lichterfelde', 'Steglitz']\n",
    "    Tempelhof = ['Marienfelde', 'Lichtenrade', 'Mariendorf', 'Friedenau', 'Tempelhof', 'Schöneberg']\n",
    "    Treptow = ['Müggelheim', 'Bohnsdorf', 'Grünau', 'Schmökewite', 'Niederschöneweide', 'Altglienicke',\n",
    "               'Johannesthal', 'Friedrichshagen', 'Adlershof', 'Rahnsdorf', 'Oberschöneweide',\n",
    "               'Köpenick', 'Plänterwald', 'Baumschulenweg', 'Alt-Treptow']\n",
    "    \n",
    "    if boro in Charlot:\n",
    "        boroughs.append('Charlottenburg-Wilmersdorf')\n",
    "    elif boro in Fried:\n",
    "        boroughs.append('Friedrichshain-Kreuzberg')\n",
    "    elif boro in Licht:\n",
    "        boroughs.append('Lichtenberg')\n",
    "    elif boro in Marzahn:\n",
    "        boroughs.append('Marzahn-Hellersdorf')\n",
    "    elif boro in Mitte:\n",
    "        boroughs.append('Mitte')\n",
    "    elif boro in Neukolln:\n",
    "        boroughs.append('Neukölln')\n",
    "    elif boro in Pankow:\n",
    "        boroughs.append('Pankow')\n",
    "    elif boro in Reinick:\n",
    "        boroughs.append('Reinickendorf')\n",
    "    elif boro in Spandau:\n",
    "        boroughs.append('Spandau')\n",
    "    elif boro in Steglitz:\n",
    "        boroughs.append('Steglitz-Zehlendorf')\n",
    "    elif boro in Tempelhof:\n",
    "        boroughs.append('Tempelhof-Schöneberg')\n",
    "    elif boro in Treptow:\n",
    "        boroughs.append('Treptow-Köpernick')\n",
    "    else:\n",
    "        boroughs.append('TODO')\n",
    "set(boroughs)"
   ]
  },
  {
   "cell_type": "code",
   "execution_count": 60,
   "metadata": {},
   "outputs": [
    {
     "ename": "AttributeError",
     "evalue": "'Series' object has no attribute 'med'",
     "output_type": "error",
     "traceback": [
      "\u001b[1;31m---------------------------------------------------------------------------\u001b[0m",
      "\u001b[1;31mAttributeError\u001b[0m                            Traceback (most recent call last)",
      "\u001b[1;32m<ipython-input-60-5ef57877430f>\u001b[0m in \u001b[0;36m<module>\u001b[1;34m\u001b[0m\n\u001b[0;32m      1\u001b[0m \u001b[0mBerlin\u001b[0m\u001b[1;33m[\u001b[0m\u001b[1;34m'boroughs'\u001b[0m\u001b[1;33m]\u001b[0m \u001b[1;33m=\u001b[0m \u001b[0mboroughs\u001b[0m\u001b[1;33m\u001b[0m\u001b[1;33m\u001b[0m\u001b[0m\n\u001b[1;32m----> 2\u001b[1;33m \u001b[0mBerlin\u001b[0m\u001b[1;33m[\u001b[0m\u001b[1;34m'boroughs'\u001b[0m\u001b[1;33m]\u001b[0m\u001b[1;33m.\u001b[0m\u001b[0mmed\u001b[0m\u001b[1;33m(\u001b[0m\u001b[1;33m)\u001b[0m\u001b[1;33m\u001b[0m\u001b[1;33m\u001b[0m\u001b[0m\n\u001b[0m",
      "\u001b[1;32m~\\Anaconda3\\lib\\site-packages\\pandas\\core\\generic.py\u001b[0m in \u001b[0;36m__getattr__\u001b[1;34m(self, name)\u001b[0m\n\u001b[0;32m   5177\u001b[0m             \u001b[1;32mif\u001b[0m \u001b[0mself\u001b[0m\u001b[1;33m.\u001b[0m\u001b[0m_info_axis\u001b[0m\u001b[1;33m.\u001b[0m\u001b[0m_can_hold_identifiers_and_holds_name\u001b[0m\u001b[1;33m(\u001b[0m\u001b[0mname\u001b[0m\u001b[1;33m)\u001b[0m\u001b[1;33m:\u001b[0m\u001b[1;33m\u001b[0m\u001b[1;33m\u001b[0m\u001b[0m\n\u001b[0;32m   5178\u001b[0m                 \u001b[1;32mreturn\u001b[0m \u001b[0mself\u001b[0m\u001b[1;33m[\u001b[0m\u001b[0mname\u001b[0m\u001b[1;33m]\u001b[0m\u001b[1;33m\u001b[0m\u001b[1;33m\u001b[0m\u001b[0m\n\u001b[1;32m-> 5179\u001b[1;33m             \u001b[1;32mreturn\u001b[0m \u001b[0mobject\u001b[0m\u001b[1;33m.\u001b[0m\u001b[0m__getattribute__\u001b[0m\u001b[1;33m(\u001b[0m\u001b[0mself\u001b[0m\u001b[1;33m,\u001b[0m \u001b[0mname\u001b[0m\u001b[1;33m)\u001b[0m\u001b[1;33m\u001b[0m\u001b[1;33m\u001b[0m\u001b[0m\n\u001b[0m\u001b[0;32m   5180\u001b[0m \u001b[1;33m\u001b[0m\u001b[0m\n\u001b[0;32m   5181\u001b[0m     \u001b[1;32mdef\u001b[0m \u001b[0m__setattr__\u001b[0m\u001b[1;33m(\u001b[0m\u001b[0mself\u001b[0m\u001b[1;33m,\u001b[0m \u001b[0mname\u001b[0m\u001b[1;33m,\u001b[0m \u001b[0mvalue\u001b[0m\u001b[1;33m)\u001b[0m\u001b[1;33m:\u001b[0m\u001b[1;33m\u001b[0m\u001b[1;33m\u001b[0m\u001b[0m\n",
      "\u001b[1;31mAttributeError\u001b[0m: 'Series' object has no attribute 'med'"
     ]
    }
   ],
   "source": [
    "Berlin['boroughs'] = boroughs"
   ]
  },
  {
   "cell_type": "code",
   "execution_count": 63,
   "metadata": {},
   "outputs": [],
   "source": [
    "Berlin['boroughs'] = Berlin['boroughs'].replace('TODO', np.NaN)"
   ]
  },
  {
   "cell_type": "code",
   "execution_count": 64,
   "metadata": {},
   "outputs": [
    {
     "data": {
      "text/plain": [
       "dtype('float64')"
      ]
     },
     "execution_count": 64,
     "metadata": {},
     "output_type": "execute_result"
    }
   ],
   "source": [
    "Berlin['host_identity_verified'].dtypes"
   ]
  },
  {
   "cell_type": "code",
   "execution_count": 65,
   "metadata": {},
   "outputs": [],
   "source": [
    "# For 'host_identity_verified', it would make sense to fill the NA values with 0 (FALSE)\n",
    "# We will also convert the column from float to integers(int64)\n",
    "\n",
    "Berlin['host_identity_verified'] = Berlin['host_identity_verified'].replace(np.NaN, 0).astype('int64')"
   ]
  },
  {
   "cell_type": "code",
   "execution_count": 66,
   "metadata": {},
   "outputs": [],
   "source": [
    "# Saving this column for backup\n",
    "\n",
    "Berlin_cancel = Berlin['cancellation_policy']"
   ]
  },
  {
   "cell_type": "code",
   "execution_count": 67,
   "metadata": {},
   "outputs": [
    {
     "data": {
      "text/plain": [
       "Index(['property_type', 'room_type', 'price', 'number_of_reviews',\n",
       "       'instant_bookable', 'cancellation_policy', 'neighbourhood',\n",
       "       'host_identity_verified', 'can_accommodate', 'n_bedrooms',\n",
       "       'n_bathrooms', 'n_beds', 'review_score', 'cancel_policy', 'boroughs'],\n",
       "      dtype='object')"
      ]
     },
     "execution_count": 67,
     "metadata": {},
     "output_type": "execute_result"
    }
   ],
   "source": [
    "Berlin.columns"
   ]
  },
  {
   "cell_type": "code",
   "execution_count": 68,
   "metadata": {},
   "outputs": [],
   "source": [
    "# Reassigning the Berlin dataframe to the columns we are checking out\n",
    "#  'neighbourhood',\n",
    "\n",
    "Berlin = Berlin[['property_type', 'room_type', 'price', 'number_of_reviews',\n",
    "                 'instant_bookable', 'boroughs', 'host_identity_verified',\n",
    "                 'can_accommodate', 'n_bedrooms', 'n_bathrooms', 'n_beds',\n",
    "                 'review_score', 'cancel_policy']]"
   ]
  },
  {
   "cell_type": "code",
   "execution_count": 69,
   "metadata": {},
   "outputs": [
    {
     "data": {
      "text/html": [
       "<div>\n",
       "<style scoped>\n",
       "    .dataframe tbody tr th:only-of-type {\n",
       "        vertical-align: middle;\n",
       "    }\n",
       "\n",
       "    .dataframe tbody tr th {\n",
       "        vertical-align: top;\n",
       "    }\n",
       "\n",
       "    .dataframe thead th {\n",
       "        text-align: right;\n",
       "    }\n",
       "</style>\n",
       "<table border=\"1\" class=\"dataframe\">\n",
       "  <thead>\n",
       "    <tr style=\"text-align: right;\">\n",
       "      <th></th>\n",
       "      <th>property_type</th>\n",
       "      <th>room_type</th>\n",
       "      <th>price</th>\n",
       "      <th>number_of_reviews</th>\n",
       "      <th>instant_bookable</th>\n",
       "      <th>boroughs</th>\n",
       "      <th>host_identity_verified</th>\n",
       "      <th>can_accommodate</th>\n",
       "      <th>n_bedrooms</th>\n",
       "      <th>n_bathrooms</th>\n",
       "      <th>n_beds</th>\n",
       "      <th>review_score</th>\n",
       "      <th>cancel_policy</th>\n",
       "    </tr>\n",
       "  </thead>\n",
       "  <tbody>\n",
       "    <tr>\n",
       "      <th>0</th>\n",
       "      <td>Guesthouse</td>\n",
       "      <td>Entire home/apt</td>\n",
       "      <td>60</td>\n",
       "      <td>118</td>\n",
       "      <td>0</td>\n",
       "      <td>Mitte</td>\n",
       "      <td>1</td>\n",
       "      <td>3</td>\n",
       "      <td>1</td>\n",
       "      <td>1</td>\n",
       "      <td>2+</td>\n",
       "      <td>9.0</td>\n",
       "      <td>strict</td>\n",
       "    </tr>\n",
       "    <tr>\n",
       "      <th>1</th>\n",
       "      <td>Apartment</td>\n",
       "      <td>Private room</td>\n",
       "      <td>17</td>\n",
       "      <td>6</td>\n",
       "      <td>0</td>\n",
       "      <td>NaN</td>\n",
       "      <td>1</td>\n",
       "      <td>2</td>\n",
       "      <td>1</td>\n",
       "      <td>1</td>\n",
       "      <td>1</td>\n",
       "      <td>10.0</td>\n",
       "      <td>flexible</td>\n",
       "    </tr>\n",
       "    <tr>\n",
       "      <th>2</th>\n",
       "      <td>Apartment</td>\n",
       "      <td>Entire home/apt</td>\n",
       "      <td>90</td>\n",
       "      <td>143</td>\n",
       "      <td>1</td>\n",
       "      <td>Pankow</td>\n",
       "      <td>1</td>\n",
       "      <td>4</td>\n",
       "      <td>1</td>\n",
       "      <td>1</td>\n",
       "      <td>2+</td>\n",
       "      <td>9.0</td>\n",
       "      <td>strict</td>\n",
       "    </tr>\n",
       "    <tr>\n",
       "      <th>3</th>\n",
       "      <td>Apartment</td>\n",
       "      <td>Private room</td>\n",
       "      <td>26</td>\n",
       "      <td>25</td>\n",
       "      <td>0</td>\n",
       "      <td>Tempelhof-Schöneberg</td>\n",
       "      <td>1</td>\n",
       "      <td>2</td>\n",
       "      <td>1</td>\n",
       "      <td>1</td>\n",
       "      <td>1</td>\n",
       "      <td>9.0</td>\n",
       "      <td>strict</td>\n",
       "    </tr>\n",
       "    <tr>\n",
       "      <th>4</th>\n",
       "      <td>Apartment</td>\n",
       "      <td>Private room</td>\n",
       "      <td>42</td>\n",
       "      <td>197</td>\n",
       "      <td>0</td>\n",
       "      <td>Pankow</td>\n",
       "      <td>1</td>\n",
       "      <td>2</td>\n",
       "      <td>1</td>\n",
       "      <td>1</td>\n",
       "      <td>2+</td>\n",
       "      <td>9.0</td>\n",
       "      <td>moderate</td>\n",
       "    </tr>\n",
       "  </tbody>\n",
       "</table>\n",
       "</div>"
      ],
      "text/plain": [
       "  property_type        room_type  price  number_of_reviews  instant_bookable  \\\n",
       "0    Guesthouse  Entire home/apt     60                118                 0   \n",
       "1     Apartment     Private room     17                  6                 0   \n",
       "2     Apartment  Entire home/apt     90                143                 1   \n",
       "3     Apartment     Private room     26                 25                 0   \n",
       "4     Apartment     Private room     42                197                 0   \n",
       "\n",
       "               boroughs  host_identity_verified can_accommodate n_bedrooms  \\\n",
       "0                 Mitte                       1               3          1   \n",
       "1                   NaN                       1               2          1   \n",
       "2                Pankow                       1               4          1   \n",
       "3  Tempelhof-Schöneberg                       1               2          1   \n",
       "4                Pankow                       1               2          1   \n",
       "\n",
       "  n_bathrooms n_beds  review_score cancel_policy  \n",
       "0           1     2+           9.0        strict  \n",
       "1           1      1          10.0      flexible  \n",
       "2           1     2+           9.0        strict  \n",
       "3           1      1           9.0        strict  \n",
       "4           1     2+           9.0      moderate  "
      ]
     },
     "execution_count": 69,
     "metadata": {},
     "output_type": "execute_result"
    }
   ],
   "source": [
    "Berlin.head()"
   ]
  },
  {
   "cell_type": "code",
   "execution_count": 71,
   "metadata": {},
   "outputs": [
    {
     "data": {
      "text/plain": [
       "property_type                0\n",
       "room_type                    0\n",
       "price                        0\n",
       "number_of_reviews            0\n",
       "instant_bookable             0\n",
       "boroughs                  1218\n",
       "host_identity_verified       0\n",
       "can_accommodate              0\n",
       "n_bedrooms                   0\n",
       "n_bathrooms                  0\n",
       "n_beds                       0\n",
       "review_score                 0\n",
       "cancel_policy                0\n",
       "dtype: int64"
      ]
     },
     "execution_count": 71,
     "metadata": {},
     "output_type": "execute_result"
    }
   ],
   "source": [
    "Berlin.isna().sum()"
   ]
  },
  {
   "cell_type": "code",
   "execution_count": 73,
   "metadata": {},
   "outputs": [
    {
     "data": {
      "text/plain": [
       "(21334, 13)"
      ]
     },
     "execution_count": 73,
     "metadata": {},
     "output_type": "execute_result"
    }
   ],
   "source": [
    "non_na = Berlin[Berlin['boroughs'].notna()]\n",
    "non_na.shape"
   ]
  },
  {
   "cell_type": "code",
   "execution_count": 74,
   "metadata": {},
   "outputs": [
    {
     "name": "stdout",
     "output_type": "stream",
     "text": [
      "(13653, 13)\n",
      "(3414, 13)\n",
      "(4267, 13)\n"
     ]
    }
   ],
   "source": [
    "# Ofer work starting here (James' notes between two asterisks **)\n",
    "\n",
    "# Create Train/**Val/**Test **Incorporating random_state for reproducibility**\n",
    "# **If we have time, we may want to try different values for test_size**\n",
    "\n",
    "train, test = train_test_split(non_na, train_size=0.80, test_size=0.20, random_state=42)\n",
    "train, val = train_test_split(train, train_size=0.80, test_size=0.20, random_state=42)\n",
    "\n",
    "for df in train, val, test:\n",
    "    print(df.shape)"
   ]
  },
  {
   "cell_type": "code",
   "execution_count": 76,
   "metadata": {},
   "outputs": [],
   "source": [
    "# **Splitting up features and target then, X_train, y_train, etc.**\n",
    "# 'neighbourhood',\n",
    "\n",
    "features = ['property_type', 'room_type', 'number_of_reviews',\n",
    "            'instant_bookable', 'boroughs', 'host_identity_verified',\n",
    "            'can_accommodate', 'n_bedrooms', 'n_bathrooms', 'n_beds',\n",
    "            'review_score', 'cancel_policy']\n",
    "target = 'price'\n",
    "\n",
    "X_train = train[features]\n",
    "y_train = train[target]\n",
    "X_val = val[features]\n",
    "y_val = val[target]\n",
    "X_test = test[features]\n",
    "y_test = test[target]"
   ]
  },
  {
   "cell_type": "code",
   "execution_count": 77,
   "metadata": {},
   "outputs": [
    {
     "name": "stdout",
     "output_type": "stream",
     "text": [
      "Mean Baseline (using 0 features) and Price mean of: 67\n",
      "Train Error for Berlin: 40.78 percentage points\n",
      "Train Error for Berlin: 41.35 percentage points\n",
      "Test Error for Berlin: 44.41 percentage points\n"
     ]
    }
   ],
   "source": [
    "# **Taking a baseline using 0 features and the mean of the target('price') column**\n",
    "# How far off would we be if we used this average?\n",
    "\n",
    "# Arrange y target vectors - target already assigned in cell above\n",
    "y_train_mae = train[target]\n",
    "y_val_mae = val[target]\n",
    "y_test_mae = test[target]\n",
    "\n",
    "print(f'Mean Baseline (using 0 features) and Price mean of: {round(y_train_mae.mean())}')\n",
    "guess = round(y_train.mean()) # **so that the mean is an integer**\n",
    "\n",
    "# Train Error\n",
    "y_pred = [guess] * len(y_train_mae)\n",
    "mae = mean_absolute_error(y_train_mae, y_pred)\n",
    "print(f'Train Error for Berlin: {mae:.2f} percentage points')\n",
    "\n",
    "# Validate Error\n",
    "y_pred = [guess] * len(y_val_mae)\n",
    "mae = mean_absolute_error(y_val_mae, y_pred)\n",
    "print(f'Train Error for Berlin: {mae:.2f} percentage points')\n",
    "\n",
    "# Test Error\n",
    "y_pred = [guess] * len(y_test_mae)\n",
    "mae = mean_absolute_error(y_test_mae, y_pred)\n",
    "print(f'Test Error for Berlin: {mae:.2f} percentage points')"
   ]
  },
  {
   "cell_type": "code",
   "execution_count": 78,
   "metadata": {},
   "outputs": [
    {
     "data": {
      "text/html": [
       "<div>\n",
       "<style scoped>\n",
       "    .dataframe tbody tr th:only-of-type {\n",
       "        vertical-align: middle;\n",
       "    }\n",
       "\n",
       "    .dataframe tbody tr th {\n",
       "        vertical-align: top;\n",
       "    }\n",
       "\n",
       "    .dataframe thead th {\n",
       "        text-align: right;\n",
       "    }\n",
       "</style>\n",
       "<table border=\"1\" class=\"dataframe\">\n",
       "  <thead>\n",
       "    <tr style=\"text-align: right;\">\n",
       "      <th></th>\n",
       "      <th>property_type</th>\n",
       "      <th>room_type</th>\n",
       "      <th>number_of_reviews</th>\n",
       "      <th>instant_bookable</th>\n",
       "      <th>boroughs</th>\n",
       "      <th>host_identity_verified</th>\n",
       "      <th>can_accommodate</th>\n",
       "      <th>n_bedrooms</th>\n",
       "      <th>n_bathrooms</th>\n",
       "      <th>n_beds</th>\n",
       "      <th>review_score</th>\n",
       "      <th>cancel_policy</th>\n",
       "    </tr>\n",
       "  </thead>\n",
       "  <tbody>\n",
       "    <tr>\n",
       "      <th>13493</th>\n",
       "      <td>1</td>\n",
       "      <td>1</td>\n",
       "      <td>0</td>\n",
       "      <td>1</td>\n",
       "      <td>1</td>\n",
       "      <td>0</td>\n",
       "      <td>1</td>\n",
       "      <td>1</td>\n",
       "      <td>1</td>\n",
       "      <td>1</td>\n",
       "      <td>0.0</td>\n",
       "      <td>1</td>\n",
       "    </tr>\n",
       "    <tr>\n",
       "      <th>4508</th>\n",
       "      <td>1</td>\n",
       "      <td>2</td>\n",
       "      <td>6</td>\n",
       "      <td>1</td>\n",
       "      <td>1</td>\n",
       "      <td>0</td>\n",
       "      <td>2</td>\n",
       "      <td>2</td>\n",
       "      <td>1</td>\n",
       "      <td>1</td>\n",
       "      <td>10.0</td>\n",
       "      <td>2</td>\n",
       "    </tr>\n",
       "    <tr>\n",
       "      <th>1914</th>\n",
       "      <td>1</td>\n",
       "      <td>1</td>\n",
       "      <td>29</td>\n",
       "      <td>0</td>\n",
       "      <td>2</td>\n",
       "      <td>0</td>\n",
       "      <td>3</td>\n",
       "      <td>1</td>\n",
       "      <td>1</td>\n",
       "      <td>2</td>\n",
       "      <td>10.0</td>\n",
       "      <td>2</td>\n",
       "    </tr>\n",
       "    <tr>\n",
       "      <th>20128</th>\n",
       "      <td>1</td>\n",
       "      <td>2</td>\n",
       "      <td>19</td>\n",
       "      <td>1</td>\n",
       "      <td>3</td>\n",
       "      <td>0</td>\n",
       "      <td>2</td>\n",
       "      <td>2</td>\n",
       "      <td>1</td>\n",
       "      <td>1</td>\n",
       "      <td>9.0</td>\n",
       "      <td>3</td>\n",
       "    </tr>\n",
       "    <tr>\n",
       "      <th>13536</th>\n",
       "      <td>2</td>\n",
       "      <td>1</td>\n",
       "      <td>12</td>\n",
       "      <td>0</td>\n",
       "      <td>1</td>\n",
       "      <td>1</td>\n",
       "      <td>2</td>\n",
       "      <td>2</td>\n",
       "      <td>1</td>\n",
       "      <td>1</td>\n",
       "      <td>9.0</td>\n",
       "      <td>3</td>\n",
       "    </tr>\n",
       "  </tbody>\n",
       "</table>\n",
       "</div>"
      ],
      "text/plain": [
       "       property_type  room_type  number_of_reviews  instant_bookable  \\\n",
       "13493              1          1                  0                 1   \n",
       "4508               1          2                  6                 1   \n",
       "1914               1          1                 29                 0   \n",
       "20128              1          2                 19                 1   \n",
       "13536              2          1                 12                 0   \n",
       "\n",
       "       boroughs  host_identity_verified  can_accommodate  n_bedrooms  \\\n",
       "13493         1                       0                1           1   \n",
       "4508          1                       0                2           2   \n",
       "1914          2                       0                3           1   \n",
       "20128         3                       0                2           2   \n",
       "13536         1                       1                2           2   \n",
       "\n",
       "       n_bathrooms  n_beds  review_score  cancel_policy  \n",
       "13493            1       1           0.0              1  \n",
       "4508             1       1          10.0              2  \n",
       "1914             1       2          10.0              2  \n",
       "20128            1       1           9.0              3  \n",
       "13536            1       1           9.0              3  "
      ]
     },
     "execution_count": 78,
     "metadata": {},
     "output_type": "execute_result"
    }
   ],
   "source": [
    "# Encoding the categorical features using Ordinal Encoder which will start at 1\n",
    "# for the first unique string and then count +1 for each new unique string\n",
    "\n",
    "encoder = ce.OrdinalEncoder()\n",
    "\n",
    "X_train_encoded = encoder.fit_transform(X_train)\n",
    "X_val_encoded = encoder.fit_transform(X_val)\n",
    "X_test_encoded = encoder.fit_transform(X_test)\n",
    "\n",
    "# To see what we did...\n",
    "X_train_encoded.head()"
   ]
  },
  {
   "cell_type": "code",
   "execution_count": 79,
   "metadata": {},
   "outputs": [
    {
     "data": {
      "text/plain": [
       "property_type               int32\n",
       "room_type                   int32\n",
       "number_of_reviews           int64\n",
       "instant_bookable            int64\n",
       "boroughs                    int32\n",
       "host_identity_verified      int64\n",
       "can_accommodate             int32\n",
       "n_bedrooms                  int32\n",
       "n_bathrooms                 int32\n",
       "n_beds                      int32\n",
       "review_score              float64\n",
       "cancel_policy               int32\n",
       "dtype: object"
      ]
     },
     "execution_count": 79,
     "metadata": {},
     "output_type": "execute_result"
    }
   ],
   "source": [
    "# Now check the data types...\n",
    "X_train_encoded.dtypes"
   ]
  },
  {
   "cell_type": "code",
   "execution_count": 80,
   "metadata": {},
   "outputs": [],
   "source": [
    "# **Making a function which will test the numeric features indivudually using LinearRegression**\n",
    "\n",
    "model = LinearRegression()\n",
    "\n",
    "def lr_feature_error(array):\n",
    "    \n",
    "    # Arranging X features matrices (already did y target vectors)\n",
    "    X_train_lr = X_train_encoded[array].values.reshape(-1, 1)\n",
    "    print(f'Linear Regression, dependent on: {array}')\n",
    "\n",
    "    # Fit the model\n",
    "    model.fit(X_train_lr, y_train)\n",
    "    y_pred = model.predict(X_train_lr)\n",
    "    mae = mean_absolute_error(y_train, y_pred)\n",
    "    print(f'Train Error: {mae:.2f} percentage points \\n')"
   ]
  },
  {
   "cell_type": "code",
   "execution_count": 81,
   "metadata": {},
   "outputs": [
    {
     "name": "stdout",
     "output_type": "stream",
     "text": [
      "Linear Regression, dependent on: property_type\n",
      "Train Error: 41.02 percentage points \n",
      "\n",
      "Linear Regression, dependent on: room_type\n",
      "Train Error: 36.52 percentage points \n",
      "\n",
      "Linear Regression, dependent on: number_of_reviews\n",
      "Train Error: 40.63 percentage points \n",
      "\n",
      "Linear Regression, dependent on: instant_bookable\n",
      "Train Error: 41.01 percentage points \n",
      "\n",
      "Linear Regression, dependent on: boroughs\n",
      "Train Error: 40.63 percentage points \n",
      "\n",
      "Linear Regression, dependent on: host_identity_verified\n",
      "Train Error: 40.87 percentage points \n",
      "\n",
      "Linear Regression, dependent on: can_accommodate\n",
      "Train Error: 35.19 percentage points \n",
      "\n",
      "Linear Regression, dependent on: n_bedrooms\n",
      "Train Error: 37.77 percentage points \n",
      "\n",
      "Linear Regression, dependent on: n_bathrooms\n",
      "Train Error: 39.93 percentage points \n",
      "\n",
      "Linear Regression, dependent on: n_beds\n",
      "Train Error: 37.76 percentage points \n",
      "\n",
      "Linear Regression, dependent on: review_score\n",
      "Train Error: 40.99 percentage points \n",
      "\n",
      "Linear Regression, dependent on: cancel_policy\n",
      "Train Error: 40.80 percentage points \n",
      "\n"
     ]
    }
   ],
   "source": [
    "for col in X_train_encoded:\n",
    "    lr_feature_error(col)"
   ]
  },
  {
   "cell_type": "code",
   "execution_count": 82,
   "metadata": {},
   "outputs": [
    {
     "name": "stdout",
     "output_type": "stream",
     "text": [
      "Intercept 67.80844902435052\n",
      "property_type             10.212104\n",
      "room_type                -17.282014\n",
      "number_of_reviews         -0.034188\n",
      "instant_bookable          16.431831\n",
      "boroughs                  -1.217888\n",
      "host_identity_verified    -2.748301\n",
      "can_accommodate           11.422485\n",
      "n_bedrooms                -7.179923\n",
      "n_bathrooms               19.496378\n",
      "n_beds                    -7.179086\n",
      "review_score              -1.604035\n",
      "cancel_policy             -3.219288\n"
     ]
    }
   ],
   "source": [
    "# **Getting the intercepts**\n",
    "\n",
    "# Fit the model to the data\n",
    "model.fit(X_train_encoded, y_train)\n",
    "\n",
    "# Intercepts and coefficients\n",
    "print('Intercept', model.intercept_)\n",
    "coefficients = pd.Series(model.coef_, features)\n",
    "print(coefficients.to_string())"
   ]
  },
  {
   "cell_type": "code",
   "execution_count": 83,
   "metadata": {},
   "outputs": [
    {
     "data": {
      "image/png": "[encoded data removed]",
      "text/plain": [
       "<Figure size 360x720 with 1 Axes>"
      ]
     },
     "metadata": {
      "needs_background": "light"
     },
     "output_type": "display_data"
    }
   ],
   "source": [
    "# Plotting these coefficients\n",
    "coefficients = pd.Series(model.coef_, X_train_encoded.columns)\n",
    "plt.figure(figsize=(5,10))\n",
    "coefficients.sort_values().plot.barh(color='grey');"
   ]
  },
  {
   "cell_type": "code",
   "execution_count": 84,
   "metadata": {},
   "outputs": [],
   "source": [
    "# **TL:DR  - Mainly for originally numeric columns**\n",
    "# **For the Positive features, as the feature increases, so does the Price**\n",
    "# **For the Negative features, as the feature decreases, so does the Price**"
   ]
  },
  {
   "cell_type": "code",
   "execution_count": 85,
   "metadata": {},
   "outputs": [],
   "source": [
    "# Trying some ordinal encoding and LinearRegression() through a pipeline (sklearn.pipeline.make_pipeline)\n",
    "# Ordinal Encoder will take string values, start at 1 and then count up for each new unique value\n",
    "# After that we will standardize the data so they can be comparable\n",
    "\n",
    "pipeline = make_pipeline(\n",
    "    ce.OrdinalEncoder(),\n",
    "    StandardScaler(),\n",
    "    LinearRegression()\n",
    ")\n",
    "pipeline.fit(X_train, y_train)\n",
    "\n",
    "# # The code below will get coefficients for LinearRegression()\n",
    "\n",
    "lr = pipeline.named_steps['linearregression']\n",
    "importances_lr = pd.Series(lr.coef_, X_train.columns)"
   ]
  },
  {
   "cell_type": "code",
   "execution_count": 86,
   "metadata": {},
   "outputs": [
    {
     "data": {
      "image/png": "[encoded data removed]",
      "text/plain": [
       "<Figure size 576x432 with 1 Axes>"
      ]
     },
     "metadata": {
      "needs_background": "light"
     },
     "output_type": "display_data"
    }
   ],
   "source": [
    "# Plot of the scaled coefficients\n",
    "\n",
    "plt.figure(figsize=(8,6))\n",
    "plt.title('Feature Importance')\n",
    "importances_lr.sort_values().plot.barh(color='grey');"
   ]
  },
  {
   "cell_type": "code",
   "execution_count": 87,
   "metadata": {},
   "outputs": [
    {
     "data": {
      "image/png": "[encoded data removed]",
      "text/plain": [
       "<Figure size 576x432 with 1 Axes>"
      ]
     },
     "metadata": {
      "needs_background": "light"
     },
     "output_type": "display_data"
    }
   ],
   "source": [
    "# Lets try a RandomForestRegressor!\n",
    "\n",
    "pipeline = make_pipeline(\n",
    "    ce.OrdinalEncoder(),\n",
    "    StandardScaler(),\n",
    "    RandomForestRegressor(n_jobs=-1, n_estimators=100, random_state=42)\n",
    ")\n",
    "pipeline.fit(X_train, y_train)\n",
    "\n",
    "# Get feature importances\n",
    "rf = pipeline.named_steps['randomforestregressor']\n",
    "importances = pd.Series(rf.feature_importances_, X_train.columns)\n",
    "\n",
    "# Plot feature importances\n",
    "%matplotlib inline\n",
    "\n",
    "plt.figure(figsize=(8,6))\n",
    "plt.title('Feature Importance')\n",
    "importances.sort_values().plot.barh(color='grey');"
   ]
  },
  {
   "cell_type": "code",
   "execution_count": 88,
   "metadata": {},
   "outputs": [
    {
     "name": "stdout",
     "output_type": "stream",
     "text": [
      "Training R^2 0.896684691600207\n",
      "Training MAE: 13.489958394721006 dollars\n",
      "Validation R^2 0.7369081855838353\n",
      "Validation MAE: 28.939108173788462 dollars\n",
      "Test R^2 0.4425147018366213\n",
      "Test MAE: 32.015518703620764 dollars\n"
     ]
    }
   ],
   "source": [
    "# Fit on train, score on test\n",
    "pipeline.fit(X_train, y_train)\n",
    "y_pred_train = pipeline.predict(X_train)\n",
    "y_pred_val = pipeline.predict(X_val)\n",
    "y_pred_test = pipeline.predict(X_test)\n",
    "\n",
    "rf = pipeline.named_steps['randomforestregressor']\n",
    "\n",
    "# Print Results\n",
    "print('Training R^2', pipeline.score(X_train, y_train))\n",
    "print(f'Training MAE: {mean_absolute_error(y_train, y_pred_train)} dollars')\n",
    "print('Validation R^2', pipeline.score(X_val, y_val))\n",
    "print(f'Validation MAE: {mean_absolute_error(y_val, y_pred_val)} dollars')\n",
    "print('Test R^2', pipeline.score(X_test, y_test))\n",
    "print(f'Test MAE: {mean_absolute_error(y_test, y_pred_test)} dollars')"
   ]
  },
  {
   "cell_type": "code",
   "execution_count": 89,
   "metadata": {},
   "outputs": [
    {
     "name": "stdout",
     "output_type": "stream",
     "text": [
      "MAE for 3 folds: [37.68399525 35.39090565 36.98231246]\n",
      "Mean score 36.68573778775866\n"
     ]
    }
   ],
   "source": [
    "# Cross_val_score with SelectKBest\n",
    "\n",
    "pipeline = make_pipeline(\n",
    "    ce.OrdinalEncoder(),\n",
    "    StandardScaler(),\n",
    "    SelectKBest(f_regression, k='all'),\n",
    "    Ridge()\n",
    ")\n",
    "\n",
    "k = 3\n",
    "scores = cross_val_score(pipeline, X_train, y_train, cv=k,\n",
    "                          scoring='neg_mean_absolute_error')\n",
    "print(f'MAE for {k} folds:', -scores)\n",
    "print('Mean score', -scores.mean())"
   ]
  },
  {
   "cell_type": "code",
   "execution_count": 90,
   "metadata": {},
   "outputs": [
    {
     "name": "stdout",
     "output_type": "stream",
     "text": [
      "MAE for 3 folds: [33.17680905 27.84444541 31.66267007]\n",
      "Mean score 30.894641510978545\n"
     ]
    }
   ],
   "source": [
    "# With RandomForestRegressor - The MAE is lower when using TargetEncoder\n",
    "\n",
    "pipeline = make_pipeline(\n",
    "#     ce.OrdinalEncoder(),\n",
    "    ce.TargetEncoder(min_samples_leaf=1, smoothing=1),\n",
    "#     StandardScaler(),\n",
    "    RandomForestRegressor(n_estimators=100, n_jobs=-1, random_state=42)\n",
    ")\n",
    "\n",
    "k = 3\n",
    "scores = cross_val_score(pipeline, X_train, y_train, cv=k,\n",
    "                          scoring='neg_mean_absolute_error')\n",
    "print(f'MAE for {k} folds:', -scores)\n",
    "print('Mean score', -scores.mean())"
   ]
  },
  {
   "cell_type": "code",
   "execution_count": 91,
   "metadata": {},
   "outputs": [
    {
     "data": {
      "image/png": "[encoded data removed]",
      "text/plain": [
       "<Figure size 900x600 with 1 Axes>"
      ]
     },
     "metadata": {
      "needs_background": "light"
     },
     "output_type": "display_data"
    }
   ],
   "source": [
    "pipeline = make_pipeline(\n",
    "    ce.TargetEncoder(min_samples_leaf=1, smoothing=1),\n",
    "    DecisionTreeRegressor()\n",
    ")\n",
    "\n",
    "depth = range(1, 30, 3)\n",
    "train_scores, val_scores = validation_curve(\n",
    "    pipeline, X_train, y_train,\n",
    "    param_name='decisiontreeregressor__max_depth',\n",
    "    param_range=depth, scoring='neg_mean_absolute_error',\n",
    "    cv=3,\n",
    "    n_jobs=-1\n",
    ")\n",
    "\n",
    "plt.figure(dpi=150)\n",
    "plt.plot(depth, np.mean(-train_scores, axis=1), color='blue', label='training error')\n",
    "plt.plot(depth, np.mean(-val_scores, axis=1), color='red', label='validation error')\n",
    "plt.title('Validation Curve')\n",
    "plt.xlabel('model complexity DecisionTreeRegressor max_depth')\n",
    "plt.ylabel('model score: Mean Absolute Error')\n",
    "plt.legend()\n",
    "plt.show()"
   ]
  },
  {
   "cell_type": "code",
   "execution_count": 92,
   "metadata": {},
   "outputs": [
    {
     "data": {
      "image/png": "[encoded data removed]",
      "text/plain": [
       "<Figure size 900x600 with 1 Axes>"
      ]
     },
     "metadata": {
      "needs_background": "light"
     },
     "output_type": "display_data"
    }
   ],
   "source": [
    "pipeline = make_pipeline(\n",
    "    ce.TargetEncoder(min_samples_leaf=1, smoothing=1),\n",
    "    RandomForestRegressor()\n",
    ")\n",
    "\n",
    "depth = range(1, 30, 3)\n",
    "train_scores, val_scores = validation_curve(\n",
    "    pipeline, X_train, y_train,\n",
    "    param_name='randomforestregressor__max_depth',\n",
    "    param_range=depth, scoring='neg_mean_absolute_error',\n",
    "    cv=3,\n",
    "    n_jobs=-1\n",
    ")\n",
    "\n",
    "plt.figure(dpi=150)\n",
    "plt.plot(depth, np.mean(-train_scores, axis=1), color='blue', label='training error')\n",
    "plt.plot(depth, np.mean(-val_scores, axis=1), color='red', label='validation error')\n",
    "plt.title('Validation Curve')\n",
    "plt.xlabel('model complexity RandomForestRegressor max_depth')\n",
    "plt.ylabel('model score: Mean Absolute Error')\n",
    "plt.legend()\n",
    "plt.show()"
   ]
  },
  {
   "cell_type": "code",
   "execution_count": 95,
   "metadata": {},
   "outputs": [],
   "source": [
    "# Randomized Search with multiple parameter distributions\n",
    "\n",
    "pipeline = make_pipeline(\n",
    "    ce.TargetEncoder(),\n",
    "    RandomForestRegressor()\n",
    ")\n",
    "\n",
    "param_distributions = {\n",
    "    'targetencoder__min_samples_leaf': stats.randint(1, 1000),\n",
    "    'targetencoder__min_samples_leaf': stats.uniform(1, 1000),\n",
    "    'randomforestregressor__n_estimators': stats.randint(50, 500),\n",
    "    'randomforestregressor__max_depth': [5, 10, 15, 20, None],\n",
    "    'randomforestregressor__max_features': stats.uniform(0,1)\n",
    "}"
   ]
  },
  {
   "cell_type": "code",
   "execution_count": 96,
   "metadata": {},
   "outputs": [
    {
     "name": "stdout",
     "output_type": "stream",
     "text": [
      "Fitting 5 folds for each of 10 candidates, totalling 50 fits\n"
     ]
    },
    {
     "name": "stderr",
     "output_type": "stream",
     "text": [
      "[Parallel(n_jobs=-1)]: Using backend LokyBackend with 4 concurrent workers.\n",
      "[Parallel(n_jobs=-1)]: Done   5 tasks      | elapsed:    5.2s\n",
      "[Parallel(n_jobs=-1)]: Done  10 tasks      | elapsed:    7.3s\n",
      "[Parallel(n_jobs=-1)]: Done  17 tasks      | elapsed:   12.6s\n",
      "[Parallel(n_jobs=-1)]: Done  24 tasks      | elapsed:   17.4s\n",
      "[Parallel(n_jobs=-1)]: Done  33 tasks      | elapsed:   19.4s\n",
      "[Parallel(n_jobs=-1)]: Done  42 tasks      | elapsed:   28.8s\n",
      "[Parallel(n_jobs=-1)]: Done  50 out of  50 | elapsed:   33.8s finished\n"
     ]
    },
    {
     "data": {
      "text/plain": [
       "RandomizedSearchCV(cv=5, error_score='raise-deprecating',\n",
       "                   estimator=Pipeline(memory=None,\n",
       "                                      steps=[('targetencoder',\n",
       "                                              TargetEncoder(cols=None,\n",
       "                                                            drop_invariant=False,\n",
       "                                                            handle_missing='value',\n",
       "                                                            handle_unknown='value',\n",
       "                                                            min_samples_leaf=1,\n",
       "                                                            return_df=True,\n",
       "                                                            smoothing=1.0,\n",
       "                                                            verbose=0)),\n",
       "                                             ('randomforestregressor',\n",
       "                                              RandomForestRegressor(bootstrap=True,\n",
       "                                                                    criterion='mse',\n",
       "                                                                    max_depth=...\n",
       "                                        'randomforestregressor__max_features': <scipy.stats._distn_infrastructure.rv_frozen object at 0x0000025A1393F288>,\n",
       "                                        'randomforestregressor__n_estimators': <scipy.stats._distn_infrastructure.rv_frozen object at 0x0000025A1393F348>,\n",
       "                                        'targetencoder__min_samples_leaf': <scipy.stats._distn_infrastructure.rv_frozen object at 0x0000025A114C8908>},\n",
       "                   pre_dispatch='2*n_jobs', random_state=None, refit=True,\n",
       "                   return_train_score=True, scoring='neg_mean_absolute_error',\n",
       "                   verbose=10)"
      ]
     },
     "execution_count": 96,
     "metadata": {},
     "output_type": "execute_result"
    }
   ],
   "source": [
    "search = RandomizedSearchCV(\n",
    "    pipeline,\n",
    "    param_distributions=param_distributions,\n",
    "    n_iter=10,\n",
    "    cv=5,\n",
    "    scoring='neg_mean_absolute_error',\n",
    "    verbose=10,\n",
    "    return_train_score=True,\n",
    "    n_jobs=-1\n",
    ")\n",
    "\n",
    "search.fit(X_train, y_train);"
   ]
  },
  {
   "cell_type": "code",
   "execution_count": 97,
   "metadata": {},
   "outputs": [
    {
     "name": "stdout",
     "output_type": "stream",
     "text": [
      "Best hyperparameters: {'randomforestregressor__max_depth': 10, 'randomforestregressor__max_features': 0.6237842784519894, 'randomforestregressor__n_estimators': 299, 'targetencoder__min_samples_leaf': 43.413726923107184}\n",
      "Cross-Validation MAE: 28.43665078524302\n"
     ]
    }
   ],
   "source": [
    "print('Best hyperparameters:', search.best_params_)\n",
    "print('Cross-Validation MAE:', -search.best_score_)"
   ]
  },
  {
   "cell_type": "code",
   "execution_count": 98,
   "metadata": {},
   "outputs": [
    {
     "data": {
      "text/html": [
       "<div>\n",
       "<style scoped>\n",
       "    .dataframe tbody tr th:only-of-type {\n",
       "        vertical-align: middle;\n",
       "    }\n",
       "\n",
       "    .dataframe tbody tr th {\n",
       "        vertical-align: top;\n",
       "    }\n",
       "\n",
       "    .dataframe thead th {\n",
       "        text-align: right;\n",
       "    }\n",
       "</style>\n",
       "<table border=\"1\" class=\"dataframe\">\n",
       "  <thead>\n",
       "    <tr style=\"text-align: right;\">\n",
       "      <th></th>\n",
       "      <th>mean_fit_time</th>\n",
       "      <th>std_fit_time</th>\n",
       "      <th>mean_score_time</th>\n",
       "      <th>std_score_time</th>\n",
       "      <th>param_randomforestregressor__max_depth</th>\n",
       "      <th>param_randomforestregressor__max_features</th>\n",
       "      <th>param_randomforestregressor__n_estimators</th>\n",
       "      <th>param_targetencoder__min_samples_leaf</th>\n",
       "      <th>params</th>\n",
       "      <th>split0_test_score</th>\n",
       "      <th>split1_test_score</th>\n",
       "      <th>split2_test_score</th>\n",
       "      <th>split3_test_score</th>\n",
       "      <th>split4_test_score</th>\n",
       "      <th>mean_test_score</th>\n",
       "      <th>std_test_score</th>\n",
       "      <th>rank_test_score</th>\n",
       "      <th>split0_train_score</th>\n",
       "      <th>split1_train_score</th>\n",
       "      <th>split2_train_score</th>\n",
       "      <th>split3_train_score</th>\n",
       "      <th>split4_train_score</th>\n",
       "      <th>mean_train_score</th>\n",
       "      <th>std_train_score</th>\n",
       "    </tr>\n",
       "  </thead>\n",
       "  <tbody>\n",
       "    <tr>\n",
       "      <th>9</th>\n",
       "      <td>2.040155</td>\n",
       "      <td>0.023947</td>\n",
       "      <td>0.080978</td>\n",
       "      <td>0.002314</td>\n",
       "      <td>10</td>\n",
       "      <td>0.623784</td>\n",
       "      <td>299</td>\n",
       "      <td>43.4137</td>\n",
       "      <td>{'randomforestregressor__max_depth': 10, 'rand...</td>\n",
       "      <td>-34.339188</td>\n",
       "      <td>-27.699445</td>\n",
       "      <td>-25.393083</td>\n",
       "      <td>-24.668698</td>\n",
       "      <td>-30.082062</td>\n",
       "      <td>-28.436651</td>\n",
       "      <td>3.508686</td>\n",
       "      <td>1</td>\n",
       "      <td>-21.753782</td>\n",
       "      <td>-20.874858</td>\n",
       "      <td>-21.505928</td>\n",
       "      <td>-20.953173</td>\n",
       "      <td>-19.963870</td>\n",
       "      <td>-21.010322</td>\n",
       "      <td>0.618876</td>\n",
       "    </tr>\n",
       "    <tr>\n",
       "      <th>1</th>\n",
       "      <td>2.184359</td>\n",
       "      <td>0.035757</td>\n",
       "      <td>0.133045</td>\n",
       "      <td>0.005937</td>\n",
       "      <td>10</td>\n",
       "      <td>0.336947</td>\n",
       "      <td>467</td>\n",
       "      <td>432.076</td>\n",
       "      <td>{'randomforestregressor__max_depth': 10, 'rand...</td>\n",
       "      <td>-31.073930</td>\n",
       "      <td>-31.398477</td>\n",
       "      <td>-30.197090</td>\n",
       "      <td>-27.318066</td>\n",
       "      <td>-34.428054</td>\n",
       "      <td>-30.883125</td>\n",
       "      <td>2.282252</td>\n",
       "      <td>2</td>\n",
       "      <td>-23.805520</td>\n",
       "      <td>-23.177819</td>\n",
       "      <td>-23.242086</td>\n",
       "      <td>-23.633994</td>\n",
       "      <td>-22.717943</td>\n",
       "      <td>-23.315473</td>\n",
       "      <td>0.380257</td>\n",
       "    </tr>\n",
       "    <tr>\n",
       "      <th>4</th>\n",
       "      <td>3.306359</td>\n",
       "      <td>0.058125</td>\n",
       "      <td>0.114893</td>\n",
       "      <td>0.001595</td>\n",
       "      <td>10</td>\n",
       "      <td>0.797987</td>\n",
       "      <td>408</td>\n",
       "      <td>570.855</td>\n",
       "      <td>{'randomforestregressor__max_depth': 10, 'rand...</td>\n",
       "      <td>-32.923616</td>\n",
       "      <td>-33.654640</td>\n",
       "      <td>-31.221262</td>\n",
       "      <td>-27.464127</td>\n",
       "      <td>-35.519717</td>\n",
       "      <td>-32.156770</td>\n",
       "      <td>2.721411</td>\n",
       "      <td>3</td>\n",
       "      <td>-23.349450</td>\n",
       "      <td>-22.784535</td>\n",
       "      <td>-22.713842</td>\n",
       "      <td>-22.562055</td>\n",
       "      <td>-21.617479</td>\n",
       "      <td>-22.605472</td>\n",
       "      <td>0.561307</td>\n",
       "    </tr>\n",
       "    <tr>\n",
       "      <th>0</th>\n",
       "      <td>1.497395</td>\n",
       "      <td>0.009155</td>\n",
       "      <td>0.058045</td>\n",
       "      <td>0.001163</td>\n",
       "      <td>5</td>\n",
       "      <td>0.652409</td>\n",
       "      <td>396</td>\n",
       "      <td>343.162</td>\n",
       "      <td>{'randomforestregressor__max_depth': 5, 'rando...</td>\n",
       "      <td>-32.927537</td>\n",
       "      <td>-31.634450</td>\n",
       "      <td>-31.487586</td>\n",
       "      <td>-30.957449</td>\n",
       "      <td>-37.105681</td>\n",
       "      <td>-32.822363</td>\n",
       "      <td>2.237151</td>\n",
       "      <td>4</td>\n",
       "      <td>-31.839742</td>\n",
       "      <td>-31.116882</td>\n",
       "      <td>-30.638670</td>\n",
       "      <td>-31.430842</td>\n",
       "      <td>-29.930455</td>\n",
       "      <td>-30.991318</td>\n",
       "      <td>0.660085</td>\n",
       "    </tr>\n",
       "    <tr>\n",
       "      <th>2</th>\n",
       "      <td>0.906376</td>\n",
       "      <td>0.022278</td>\n",
       "      <td>0.050863</td>\n",
       "      <td>0.001410</td>\n",
       "      <td>5</td>\n",
       "      <td>0.370679</td>\n",
       "      <td>314</td>\n",
       "      <td>412.133</td>\n",
       "      <td>{'randomforestregressor__max_depth': 5, 'rando...</td>\n",
       "      <td>-32.797897</td>\n",
       "      <td>-32.046933</td>\n",
       "      <td>-31.532012</td>\n",
       "      <td>-31.067506</td>\n",
       "      <td>-36.679092</td>\n",
       "      <td>-32.824534</td>\n",
       "      <td>2.010828</td>\n",
       "      <td>5</td>\n",
       "      <td>-32.238564</td>\n",
       "      <td>-31.925693</td>\n",
       "      <td>-31.754494</td>\n",
       "      <td>-32.224926</td>\n",
       "      <td>-30.550702</td>\n",
       "      <td>-31.738876</td>\n",
       "      <td>0.621745</td>\n",
       "    </tr>\n",
       "    <tr>\n",
       "      <th>7</th>\n",
       "      <td>5.655278</td>\n",
       "      <td>0.039676</td>\n",
       "      <td>0.226993</td>\n",
       "      <td>0.007013</td>\n",
       "      <td>None</td>\n",
       "      <td>0.731712</td>\n",
       "      <td>399</td>\n",
       "      <td>561.396</td>\n",
       "      <td>{'randomforestregressor__max_depth': None, 'ra...</td>\n",
       "      <td>-34.252275</td>\n",
       "      <td>-35.901564</td>\n",
       "      <td>-32.664190</td>\n",
       "      <td>-28.676302</td>\n",
       "      <td>-37.599612</td>\n",
       "      <td>-33.818888</td>\n",
       "      <td>3.052562</td>\n",
       "      <td>6</td>\n",
       "      <td>-15.634593</td>\n",
       "      <td>-14.906269</td>\n",
       "      <td>-15.026326</td>\n",
       "      <td>-15.266668</td>\n",
       "      <td>-14.516096</td>\n",
       "      <td>-15.069990</td>\n",
       "      <td>0.372281</td>\n",
       "    </tr>\n",
       "    <tr>\n",
       "      <th>6</th>\n",
       "      <td>0.369612</td>\n",
       "      <td>0.005148</td>\n",
       "      <td>0.036901</td>\n",
       "      <td>0.000631</td>\n",
       "      <td>5</td>\n",
       "      <td>0.162852</td>\n",
       "      <td>176</td>\n",
       "      <td>849.362</td>\n",
       "      <td>{'randomforestregressor__max_depth': 5, 'rando...</td>\n",
       "      <td>-33.454979</td>\n",
       "      <td>-34.022392</td>\n",
       "      <td>-33.737038</td>\n",
       "      <td>-32.231912</td>\n",
       "      <td>-37.097945</td>\n",
       "      <td>-34.108772</td>\n",
       "      <td>1.614199</td>\n",
       "      <td>7</td>\n",
       "      <td>-33.973063</td>\n",
       "      <td>-34.419959</td>\n",
       "      <td>-34.104099</td>\n",
       "      <td>-34.161184</td>\n",
       "      <td>-32.736288</td>\n",
       "      <td>-33.878919</td>\n",
       "      <td>0.589503</td>\n",
       "    </tr>\n",
       "    <tr>\n",
       "      <th>5</th>\n",
       "      <td>0.301195</td>\n",
       "      <td>0.009670</td>\n",
       "      <td>0.029122</td>\n",
       "      <td>0.000399</td>\n",
       "      <td>5</td>\n",
       "      <td>0.0286254</td>\n",
       "      <td>117</td>\n",
       "      <td>474.08</td>\n",
       "      <td>{'randomforestregressor__max_depth': 5, 'rando...</td>\n",
       "      <td>-33.187510</td>\n",
       "      <td>-34.374522</td>\n",
       "      <td>-33.944688</td>\n",
       "      <td>-32.241879</td>\n",
       "      <td>-37.056315</td>\n",
       "      <td>-34.160911</td>\n",
       "      <td>1.618854</td>\n",
       "      <td>8</td>\n",
       "      <td>-33.794003</td>\n",
       "      <td>-34.619954</td>\n",
       "      <td>-34.166891</td>\n",
       "      <td>-34.156887</td>\n",
       "      <td>-32.523458</td>\n",
       "      <td>-33.852238</td>\n",
       "      <td>0.714178</td>\n",
       "    </tr>\n",
       "    <tr>\n",
       "      <th>8</th>\n",
       "      <td>1.234698</td>\n",
       "      <td>0.010326</td>\n",
       "      <td>0.059641</td>\n",
       "      <td>0.002034</td>\n",
       "      <td>20</td>\n",
       "      <td>0.660668</td>\n",
       "      <td>89</td>\n",
       "      <td>960.175</td>\n",
       "      <td>{'randomforestregressor__max_depth': 20, 'rand...</td>\n",
       "      <td>-34.006669</td>\n",
       "      <td>-38.908169</td>\n",
       "      <td>-32.357094</td>\n",
       "      <td>-30.412333</td>\n",
       "      <td>-37.657505</td>\n",
       "      <td>-34.668447</td>\n",
       "      <td>3.187540</td>\n",
       "      <td>9</td>\n",
       "      <td>-17.863611</td>\n",
       "      <td>-17.291904</td>\n",
       "      <td>-18.596673</td>\n",
       "      <td>-18.024108</td>\n",
       "      <td>-16.832206</td>\n",
       "      <td>-17.721700</td>\n",
       "      <td>0.608784</td>\n",
       "    </tr>\n",
       "    <tr>\n",
       "      <th>3</th>\n",
       "      <td>3.497647</td>\n",
       "      <td>0.014133</td>\n",
       "      <td>0.151396</td>\n",
       "      <td>0.009343</td>\n",
       "      <td>20</td>\n",
       "      <td>0.691262</td>\n",
       "      <td>257</td>\n",
       "      <td>862.724</td>\n",
       "      <td>{'randomforestregressor__max_depth': 20, 'rand...</td>\n",
       "      <td>-34.347280</td>\n",
       "      <td>-40.109897</td>\n",
       "      <td>-32.631684</td>\n",
       "      <td>-31.512033</td>\n",
       "      <td>-38.474981</td>\n",
       "      <td>-35.415237</td>\n",
       "      <td>3.332407</td>\n",
       "      <td>10</td>\n",
       "      <td>-18.081753</td>\n",
       "      <td>-17.781321</td>\n",
       "      <td>-18.541161</td>\n",
       "      <td>-18.146675</td>\n",
       "      <td>-17.100814</td>\n",
       "      <td>-17.930345</td>\n",
       "      <td>0.480240</td>\n",
       "    </tr>\n",
       "  </tbody>\n",
       "</table>\n",
       "</div>"
      ],
      "text/plain": [
       "   mean_fit_time  std_fit_time  mean_score_time  std_score_time  \\\n",
       "9       2.040155      0.023947         0.080978        0.002314   \n",
       "1       2.184359      0.035757         0.133045        0.005937   \n",
       "4       3.306359      0.058125         0.114893        0.001595   \n",
       "0       1.497395      0.009155         0.058045        0.001163   \n",
       "2       0.906376      0.022278         0.050863        0.001410   \n",
       "7       5.655278      0.039676         0.226993        0.007013   \n",
       "6       0.369612      0.005148         0.036901        0.000631   \n",
       "5       0.301195      0.009670         0.029122        0.000399   \n",
       "8       1.234698      0.010326         0.059641        0.002034   \n",
       "3       3.497647      0.014133         0.151396        0.009343   \n",
       "\n",
       "  param_randomforestregressor__max_depth  \\\n",
       "9                                     10   \n",
       "1                                     10   \n",
       "4                                     10   \n",
       "0                                      5   \n",
       "2                                      5   \n",
       "7                                   None   \n",
       "6                                      5   \n",
       "5                                      5   \n",
       "8                                     20   \n",
       "3                                     20   \n",
       "\n",
       "  param_randomforestregressor__max_features  \\\n",
       "9                                  0.623784   \n",
       "1                                  0.336947   \n",
       "4                                  0.797987   \n",
       "0                                  0.652409   \n",
       "2                                  0.370679   \n",
       "7                                  0.731712   \n",
       "6                                  0.162852   \n",
       "5                                 0.0286254   \n",
       "8                                  0.660668   \n",
       "3                                  0.691262   \n",
       "\n",
       "  param_randomforestregressor__n_estimators  \\\n",
       "9                                       299   \n",
       "1                                       467   \n",
       "4                                       408   \n",
       "0                                       396   \n",
       "2                                       314   \n",
       "7                                       399   \n",
       "6                                       176   \n",
       "5                                       117   \n",
       "8                                        89   \n",
       "3                                       257   \n",
       "\n",
       "  param_targetencoder__min_samples_leaf  \\\n",
       "9                               43.4137   \n",
       "1                               432.076   \n",
       "4                               570.855   \n",
       "0                               343.162   \n",
       "2                               412.133   \n",
       "7                               561.396   \n",
       "6                               849.362   \n",
       "5                                474.08   \n",
       "8                               960.175   \n",
       "3                               862.724   \n",
       "\n",
       "                                              params  split0_test_score  \\\n",
       "9  {'randomforestregressor__max_depth': 10, 'rand...         -34.339188   \n",
       "1  {'randomforestregressor__max_depth': 10, 'rand...         -31.073930   \n",
       "4  {'randomforestregressor__max_depth': 10, 'rand...         -32.923616   \n",
       "0  {'randomforestregressor__max_depth': 5, 'rando...         -32.927537   \n",
       "2  {'randomforestregressor__max_depth': 5, 'rando...         -32.797897   \n",
       "7  {'randomforestregressor__max_depth': None, 'ra...         -34.252275   \n",
       "6  {'randomforestregressor__max_depth': 5, 'rando...         -33.454979   \n",
       "5  {'randomforestregressor__max_depth': 5, 'rando...         -33.187510   \n",
       "8  {'randomforestregressor__max_depth': 20, 'rand...         -34.006669   \n",
       "3  {'randomforestregressor__max_depth': 20, 'rand...         -34.347280   \n",
       "\n",
       "   split1_test_score  split2_test_score  split3_test_score  split4_test_score  \\\n",
       "9         -27.699445         -25.393083         -24.668698         -30.082062   \n",
       "1         -31.398477         -30.197090         -27.318066         -34.428054   \n",
       "4         -33.654640         -31.221262         -27.464127         -35.519717   \n",
       "0         -31.634450         -31.487586         -30.957449         -37.105681   \n",
       "2         -32.046933         -31.532012         -31.067506         -36.679092   \n",
       "7         -35.901564         -32.664190         -28.676302         -37.599612   \n",
       "6         -34.022392         -33.737038         -32.231912         -37.097945   \n",
       "5         -34.374522         -33.944688         -32.241879         -37.056315   \n",
       "8         -38.908169         -32.357094         -30.412333         -37.657505   \n",
       "3         -40.109897         -32.631684         -31.512033         -38.474981   \n",
       "\n",
       "   mean_test_score  std_test_score  rank_test_score  split0_train_score  \\\n",
       "9       -28.436651        3.508686                1          -21.753782   \n",
       "1       -30.883125        2.282252                2          -23.805520   \n",
       "4       -32.156770        2.721411                3          -23.349450   \n",
       "0       -32.822363        2.237151                4          -31.839742   \n",
       "2       -32.824534        2.010828                5          -32.238564   \n",
       "7       -33.818888        3.052562                6          -15.634593   \n",
       "6       -34.108772        1.614199                7          -33.973063   \n",
       "5       -34.160911        1.618854                8          -33.794003   \n",
       "8       -34.668447        3.187540                9          -17.863611   \n",
       "3       -35.415237        3.332407               10          -18.081753   \n",
       "\n",
       "   split1_train_score  split2_train_score  split3_train_score  \\\n",
       "9          -20.874858          -21.505928          -20.953173   \n",
       "1          -23.177819          -23.242086          -23.633994   \n",
       "4          -22.784535          -22.713842          -22.562055   \n",
       "0          -31.116882          -30.638670          -31.430842   \n",
       "2          -31.925693          -31.754494          -32.224926   \n",
       "7          -14.906269          -15.026326          -15.266668   \n",
       "6          -34.419959          -34.104099          -34.161184   \n",
       "5          -34.619954          -34.166891          -34.156887   \n",
       "8          -17.291904          -18.596673          -18.024108   \n",
       "3          -17.781321          -18.541161          -18.146675   \n",
       "\n",
       "   split4_train_score  mean_train_score  std_train_score  \n",
       "9          -19.963870        -21.010322         0.618876  \n",
       "1          -22.717943        -23.315473         0.380257  \n",
       "4          -21.617479        -22.605472         0.561307  \n",
       "0          -29.930455        -30.991318         0.660085  \n",
       "2          -30.550702        -31.738876         0.621745  \n",
       "7          -14.516096        -15.069990         0.372281  \n",
       "6          -32.736288        -33.878919         0.589503  \n",
       "5          -32.523458        -33.852238         0.714178  \n",
       "8          -16.832206        -17.721700         0.608784  \n",
       "3          -17.100814        -17.930345         0.480240  "
      ]
     },
     "execution_count": 98,
     "metadata": {},
     "output_type": "execute_result"
    }
   ],
   "source": [
    "# Detailed Results\n",
    "pd.DataFrame(search.cv_results_).sort_values(by='rank_test_score')"
   ]
  },
  {
   "cell_type": "code",
   "execution_count": 100,
   "metadata": {},
   "outputs": [],
   "source": [
    "pipeline = search.best_estimator_"
   ]
  },
  {
   "cell_type": "code",
   "execution_count": 108,
   "metadata": {},
   "outputs": [
    {
     "name": "stdout",
     "output_type": "stream",
     "text": [
      "Train R^2 Score: 0.8563667431576527\n",
      "Train MAE: $21\n",
      "Val R^2 Score: 0.8774573480260833\n",
      "Val MAE: $24\n",
      "Test R^2 Score: 0.4803177285471329\n",
      "Test MAE: $28\n"
     ]
    }
   ],
   "source": [
    "X_train = train[features]\n",
    "y_train = train[target]\n",
    "X_val = val[features]\n",
    "y_val = val[target]\n",
    "X_test = test[features]\n",
    "y_test = test[target]\n",
    "\n",
    "y_pred = pipeline.predict(X_train)\n",
    "mae = mean_absolute_error(y_train, y_pred)\n",
    "print(f'Train R^2 Score: {pipeline.score(X_train, y_train)}')\n",
    "print(f'Train MAE: ${mae:,.0f}')\n",
    "\n",
    "y_pred = pipeline.predict(X_val)\n",
    "mae = mean_absolute_error(y_val, y_pred)\n",
    "print(f'Val R^2 Score: {pipeline.score(X_val, y_val)}')\n",
    "print(f'Val MAE: ${mae:,.0f}')\n",
    "\n",
    "y_pred = pipeline.predict(X_test)\n",
    "mae = mean_absolute_error(y_test, y_pred)\n",
    "print(f'Test R^2 Score: {pipeline.score(X_test, y_test)}')\n",
    "print(f'Test MAE: ${mae:,.0f}')"
   ]
  },
  {
   "cell_type": "code",
   "execution_count": null,
   "metadata": {},
   "outputs": [],
   "source": []
  },
  {
   "cell_type": "code",
   "execution_count": null,
   "metadata": {},
   "outputs": [],
   "source": []
  },
  {
   "cell_type": "code",
   "execution_count": null,
   "metadata": {
    "colab": {
     "base_uri": "https://localhost:8080/",
     "height": 35
    },
    "colab_type": "code",
    "id": "TOPPNgOzdVjZ",
    "outputId": "66b35f39-fde8-456a-be75-7aa1d3d80f83"
   },
   "outputs": [],
   "source": [
    "#stripping NaN values\n",
    "berlin_na_stripped = Berlin[Berlin['neighbourhood'].notna() & Berlin['host_identity_verified'].notna()]\n",
    "berlin_na_stripped.shape\n"
   ]
  },
  {
   "cell_type": "code",
   "execution_count": null,
   "metadata": {
    "colab": {},
    "colab_type": "code",
    "id": "7okBlQ0nevLG"
   },
   "outputs": [],
   "source": [
    "Berlin = berlin_na_stripped"
   ]
  },
  {
   "cell_type": "code",
   "execution_count": null,
   "metadata": {
    "colab": {
     "base_uri": "https://localhost:8080/",
     "height": 52
    },
    "colab_type": "code",
    "id": "Oxq-TNo5I-4V",
    "outputId": "82ab8bcd-7f07-41a8-9dc6-e5d9763785cc"
   },
   "outputs": [],
   "source": [
    "#Ofer starts here, continues on above work by James\n",
    "#Create Train/Test split:\n",
    "import pandas as pd\n",
    "from sklearn import datasets, linear_model\n",
    "from sklearn.model_selection import train_test_split\n",
    "from matplotlib import pyplot as plt\n",
    "\n",
    "# create training and testing vars\n",
    "\n",
    "X = Berlin.drop(columns='price')\n",
    "y = Berlin.price\n",
    "X_train, X_test, y_train, y_test = train_test_split(X, y, test_size=0.2)\n",
    "\n",
    "print(X_train.shape, y_train.shape)\n",
    "print(X_test.shape, y_test.shape)\n"
   ]
  },
  {
   "cell_type": "code",
   "execution_count": null,
   "metadata": {
    "colab": {
     "base_uri": "https://localhost:8080/",
     "height": 390
    },
    "colab_type": "code",
    "id": "TB_j4WcNfeqd",
    "outputId": "265b1565-747c-43fb-f582-14efc36e4ab6"
   },
   "outputs": [],
   "source": [
    "# Get feature importances\n",
    "rf = pipeline.named_steps['randomforestregressor']\n",
    "importances = pd.Series(rf.feature_importances_, X_train.columns)\n",
    "\n",
    "# Plot feature importances\n",
    "%matplotlib inline\n",
    "import matplotlib.pyplot as plt\n",
    "\n",
    "plt.figure(figsize=(8,6))\n",
    "plt.title('Feature Importance')\n",
    "importances.sort_values().plot.barh(color='grey');"
   ]
  },
  {
   "cell_type": "code",
   "execution_count": null,
   "metadata": {},
   "outputs": [],
   "source": []
  },
  {
   "cell_type": "code",
   "execution_count": null,
   "metadata": {},
   "outputs": [],
   "source": []
  },
  {
   "cell_type": "code",
   "execution_count": null,
   "metadata": {},
   "outputs": [],
   "source": []
  },
  {
   "cell_type": "code",
   "execution_count": null,
   "metadata": {
    "colab": {
     "base_uri": "https://localhost:8080/",
     "height": 542
    },
    "colab_type": "code",
    "id": "aVMNUVL9hslE",
    "outputId": "8aa128ef-bfe2-40da-bb01-56180bb26528"
   },
   "outputs": [],
   "source": [
    "#try to graph it out\n",
    "import plotly.express as px\n",
    "px.scatter(Berlin, x='neighbourhood', y= target)\n",
    "#this shows pricey neighbourhoods from left to right"
   ]
  },
  {
   "cell_type": "code",
   "execution_count": null,
   "metadata": {
    "colab": {
     "base_uri": "https://localhost:8080/",
     "height": 542
    },
    "colab_type": "code",
    "id": "XwV2xl5Gixzm",
    "outputId": "e3f9015c-abe5-4b41-cf08-116ab21c71e5"
   },
   "outputs": [],
   "source": [
    "#try to graph it out\n",
    "import plotly.express as px\n",
    "px.scatter(Berlin, x='number_of_reviews', y= target)\n",
    "#this shows the less reviews, the higher the price (this probably suggests that highly priced properties don't get booked much)"
   ]
  },
  {
   "cell_type": "code",
   "execution_count": null,
   "metadata": {
    "colab": {
     "base_uri": "https://localhost:8080/",
     "height": 296
    },
    "colab_type": "code",
    "id": "IJlbL-tPieVP",
    "outputId": "c99b5e76-22da-4c3b-b7d9-5e6de619c682"
   },
   "outputs": [],
   "source": [
    "#try to graph it out\n",
    "import seaborn as sns\n",
    "sns.boxplot(y_train)"
   ]
  },
  {
   "cell_type": "code",
   "execution_count": null,
   "metadata": {
    "colab": {},
    "colab_type": "code",
    "id": "aXJXrZfklKyI"
   },
   "outputs": [],
   "source": [
    "#throw some shapley values\n",
    "# !pip install shap\n",
    "# import shap\n",
    "\n",
    "# X_train_encoded = encoder.transform(X_train)\n",
    "# row = X_train_encoded\n",
    "\n",
    "# explainer = shap.TreeExplainer(rf)\n",
    "# shap_values = explainer.shap_values(row)\n",
    "\n",
    "# shap.initjs()\n",
    "# shap.force_plot(\n",
    "# # shap.summary_plot( \n",
    "#     base_value=explainer.expected_value,\n",
    "#     shap_values=shap_values,\n",
    "#     features=row\n",
    "# )"
   ]
  },
  {
   "cell_type": "code",
   "execution_count": null,
   "metadata": {
    "colab": {
     "base_uri": "https://localhost:8080/",
     "height": 362
    },
    "colab_type": "code",
    "id": "c9yHXjqOp56x",
    "outputId": "4adc537f-542a-47a2-c979-a9d5d099d4de"
   },
   "outputs": [],
   "source": [
    "# # Feature Scaling\n",
    "# from sklearn.preprocessing import StandardScaler\n",
    "\n",
    "# sc = StandardScaler()\n",
    "# X_train = sc.fit_transform(X_train)\n",
    "# X_test = sc.transform(X_test)"
   ]
  },
  {
   "cell_type": "code",
   "execution_count": null,
   "metadata": {
    "colab": {
     "base_uri": "https://localhost:8080/",
     "height": 276
    },
    "colab_type": "code",
    "id": "zstAoQ7gYzme",
    "outputId": "722d2b85-4a39-4e57-83b6-99397eebb9f6"
   },
   "outputs": [],
   "source": [
    "# Arrange data into X features matrix and y target vector\n",
    "target = 'price'\n",
    "\n",
    "!pip install --upgrade category_encoders\n",
    "import category_encoders as ce\n",
    "from sklearn.pipeline import make_pipeline\n",
    "from sklearn.impute import SimpleImputer\n",
    "from sklearn.ensemble import RandomForestRegressor\n",
    "from sklearn.metrics import mean_absolute_error\n",
    "\n",
    "pipeline = make_pipeline(\n",
    "    ce.OrdinalEncoder(), \n",
    "    # SimpleImputer(strategy='median'), \n",
    "    RandomForestRegressor(n_estimators=250, random_state=42, n_jobs=-1)\n",
    ")\n",
    "\n",
    "# Fit on train, score on test\n",
    "pipeline.fit(X_train, y_train)\n",
    "y_pred_train = pipeline.predict(X_train)\n",
    "y_pred_test = pipeline.predict(X_test)\n",
    "\n",
    "rf = pipeline.named_steps['randomforestregressor']\n",
    "encoder = pipeline.named_steps['ordinalencoder']\n",
    "\n",
    "\n",
    "# Print Results\n",
    "print('Training R^2', pipeline.score(X_train, y_train))\n",
    "print(f'Training MAE: {mean_absolute_error(y_train, y_pred_train)} dollars')\n",
    "print('Validation R^2', pipeline.score(X_test, y_test))\n",
    "print(f'Validation MAE: {mean_absolute_error(y_test, y_pred_test)} dollars')"
   ]
  },
  {
   "cell_type": "code",
   "execution_count": null,
   "metadata": {
    "colab": {
     "base_uri": "https://localhost:8080/",
     "height": 257
    },
    "colab_type": "code",
    "id": "WXpTqjA4t88K",
    "outputId": "d72a37cb-c4d3-44ff-b466-d88c880d1c8e"
   },
   "outputs": [],
   "source": [
    "X_test.head(4)"
   ]
  },
  {
   "cell_type": "code",
   "execution_count": null,
   "metadata": {
    "colab": {
     "base_uri": "https://localhost:8080/",
     "height": 35
    },
    "colab_type": "code",
    "id": "S2H58mlqnEE3",
    "outputId": "16423746-54f3-46c3-b255-01ce63534ec6"
   },
   "outputs": [],
   "source": [
    "\n",
    "#I think this is predicting the first 4 rows prices? so, $32, $31, $113.9, $67 ?\n",
    "#Can someone verify this? :)\n",
    "y_pred = pipeline.predict(X_test[:3])\n",
    "y_pred"
   ]
  },
  {
   "cell_type": "code",
   "execution_count": null,
   "metadata": {
    "colab": {
     "base_uri": "https://localhost:8080/",
     "height": 104
    },
    "colab_type": "code",
    "id": "SN3SD9q_wMQQ",
    "outputId": "9f3e1fd6-c02b-4b17-e727-cd5733e781af"
   },
   "outputs": [],
   "source": [
    "#looking up the first 4 prices of y\n",
    "y_test.head(4)\n",
    "#So wait - I thought this was a 1 dimensional array\n",
    "#what is the number on the left? on the right it's the price correct?"
   ]
  },
  {
   "cell_type": "code",
   "execution_count": null,
   "metadata": {
    "colab": {},
    "colab_type": "code",
    "id": "XOV-jOcfw3-B"
   },
   "outputs": [],
   "source": []
  }
 ],
 "metadata": {
  "colab": {
   "collapsed_sections": [],
   "name": "airbnb_berlin_notebook (Ofer update Fri 28 Feb).ipynb",
   "provenance": []
  },
  "kernelspec": {
   "display_name": "Python 3",
   "language": "python",
   "name": "python3"
  },
  "language_info": {
   "codemirror_mode": {
    "name": "ipython",
    "version": 3
   },
   "file_extension": ".py",
   "mimetype": "text/x-python",
   "name": "python",
   "nbconvert_exporter": "python",
   "pygments_lexer": "ipython3",
   "version": "3.7.4"
  }
 },
 "nbformat": 4,
 "nbformat_minor": 1
}
